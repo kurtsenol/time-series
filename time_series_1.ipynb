{
 "cells": [
  {
   "cell_type": "markdown",
   "metadata": {},
   "source": [
    "## Time Series with Python"
   ]
  },
  {
   "cell_type": "markdown",
   "metadata": {},
   "source": [
    "### Merging Time Series With Different Dates\n",
    "Stock and bond markets in the U.S. are closed on different days. For example, although the bond market is closed on Columbus Day (around Oct 12) and Veterans Day (around Nov 11), the stock market is open on those days. One way to see the dates that the stock market is open and the bond market is closed is to convert both indexes of dates into sets and take the difference in sets.\n",
    "The pandas `.join()` method is a convenient tool to merge the stock and bond DataFrames on dates when both markets are open.\n",
    "\n",
    "- Convert the dates in the stocks.index and bonds.index into sets.\n",
    "- Take the difference of the stock set minus the bond set to get those dates where the stock market has data but the bond market does not.\n",
    "- Merge the two DataFrames into a new DataFrame, stocks_and_bonds using the `.join()` method, which has the syntax `df1.join(df2)`.\n",
    "To get the intersection of dates, use the argument how='inner'"
   ]
  },
  {
   "cell_type": "code",
   "execution_count": 2,
   "metadata": {},
   "outputs": [
    {
     "name": "stdout",
     "output_type": "stream",
     "text": [
      "<class 'pandas.core.frame.DataFrame'>\n",
      "DatetimeIndex: 2519 entries, 2007-06-11 to 2017-06-09\n",
      "Data columns (total 1 columns):\n",
      "SP500    2519 non-null float64\n",
      "dtypes: float64(1)\n",
      "memory usage: 39.4 KB\n"
     ]
    }
   ],
   "source": [
    "import pandas as pd\n",
    "\n",
    "stocks = pd.read_csv(\"Data/stocks.csv\", index_col=0, parse_dates=True)\n",
    "stocks.info()"
   ]
  },
  {
   "cell_type": "code",
   "execution_count": 3,
   "metadata": {},
   "outputs": [
    {
     "name": "stdout",
     "output_type": "stream",
     "text": [
      "<class 'pandas.core.frame.DataFrame'>\n",
      "DatetimeIndex: 2503 entries, 2007-06-08 to 2017-06-08\n",
      "Data columns (total 1 columns):\n",
      "US10Y    2503 non-null float64\n",
      "dtypes: float64(1)\n",
      "memory usage: 39.1 KB\n"
     ]
    }
   ],
   "source": [
    "bonds = pd.read_csv(\"Data/bonds.csv\", index_col=0, parse_dates=True)\n",
    "bonds.info()"
   ]
  },
  {
   "cell_type": "code",
   "execution_count": 4,
   "metadata": {},
   "outputs": [
    {
     "name": "stdout",
     "output_type": "stream",
     "text": [
      "{Timestamp('2013-11-11 00:00:00'), Timestamp('2011-10-10 00:00:00'), Timestamp('2010-10-11 00:00:00'), Timestamp('2008-10-13 00:00:00'), Timestamp('2010-11-11 00:00:00'), Timestamp('2008-11-11 00:00:00'), Timestamp('2012-10-08 00:00:00'), Timestamp('2015-10-12 00:00:00'), Timestamp('2015-11-11 00:00:00'), Timestamp('2013-10-14 00:00:00'), Timestamp('2007-10-08 00:00:00'), Timestamp('2016-11-11 00:00:00'), Timestamp('2017-06-09 00:00:00'), Timestamp('2014-11-11 00:00:00'), Timestamp('2011-11-11 00:00:00'), Timestamp('2009-11-11 00:00:00'), Timestamp('2009-10-12 00:00:00'), Timestamp('2016-10-10 00:00:00'), Timestamp('2007-11-12 00:00:00'), Timestamp('2014-10-13 00:00:00'), Timestamp('2012-11-12 00:00:00')}\n"
     ]
    }
   ],
   "source": [
    "# Convert the stock index and bond index into sets\n",
    "set_stock_dates = set(stocks.index)\n",
    "set_bond_dates = set(bonds.index)\n",
    "\n",
    "# Take the difference between the sets and print\n",
    "print(set_stock_dates - set_bond_dates)"
   ]
  },
  {
   "cell_type": "code",
   "execution_count": 5,
   "metadata": {},
   "outputs": [
    {
     "name": "stdout",
     "output_type": "stream",
     "text": [
      "<class 'pandas.core.frame.DataFrame'>\n",
      "DatetimeIndex: 2498 entries, 2007-06-11 to 2017-06-08\n",
      "Data columns (total 2 columns):\n",
      "SP500    2498 non-null float64\n",
      "US10Y    2498 non-null float64\n",
      "dtypes: float64(2)\n",
      "memory usage: 58.5 KB\n",
      "None\n"
     ]
    },
    {
     "data": {
      "text/html": [
       "<div>\n",
       "<style scoped>\n",
       "    .dataframe tbody tr th:only-of-type {\n",
       "        vertical-align: middle;\n",
       "    }\n",
       "\n",
       "    .dataframe tbody tr th {\n",
       "        vertical-align: top;\n",
       "    }\n",
       "\n",
       "    .dataframe thead th {\n",
       "        text-align: right;\n",
       "    }\n",
       "</style>\n",
       "<table border=\"1\" class=\"dataframe\">\n",
       "  <thead>\n",
       "    <tr style=\"text-align: right;\">\n",
       "      <th></th>\n",
       "      <th>SP500</th>\n",
       "      <th>US10Y</th>\n",
       "    </tr>\n",
       "    <tr>\n",
       "      <th>observation_date</th>\n",
       "      <th></th>\n",
       "      <th></th>\n",
       "    </tr>\n",
       "  </thead>\n",
       "  <tbody>\n",
       "    <tr>\n",
       "      <th>2007-06-11</th>\n",
       "      <td>1509.12</td>\n",
       "      <td>5.14</td>\n",
       "    </tr>\n",
       "    <tr>\n",
       "      <th>2007-06-12</th>\n",
       "      <td>1493.00</td>\n",
       "      <td>5.26</td>\n",
       "    </tr>\n",
       "    <tr>\n",
       "      <th>2007-06-13</th>\n",
       "      <td>1515.67</td>\n",
       "      <td>5.20</td>\n",
       "    </tr>\n",
       "    <tr>\n",
       "      <th>2007-06-14</th>\n",
       "      <td>1522.97</td>\n",
       "      <td>5.23</td>\n",
       "    </tr>\n",
       "    <tr>\n",
       "      <th>2007-06-15</th>\n",
       "      <td>1532.91</td>\n",
       "      <td>5.16</td>\n",
       "    </tr>\n",
       "  </tbody>\n",
       "</table>\n",
       "</div>"
      ],
      "text/plain": [
       "                    SP500  US10Y\n",
       "observation_date                \n",
       "2007-06-11        1509.12   5.14\n",
       "2007-06-12        1493.00   5.26\n",
       "2007-06-13        1515.67   5.20\n",
       "2007-06-14        1522.97   5.23\n",
       "2007-06-15        1532.91   5.16"
      ]
     },
     "execution_count": 5,
     "metadata": {},
     "output_type": "execute_result"
    }
   ],
   "source": [
    "# Merge stocks and bonds DataFrames using join()\n",
    "stocks_and_bonds = stocks.join(bonds, how=\"inner\")\n",
    "print(stocks_and_bonds.info())\n",
    "stocks_and_bonds.head()"
   ]
  },
  {
   "cell_type": "markdown",
   "metadata": {},
   "source": [
    "### Correlation of Stocks and Bonds\n",
    "Investors are often interested in the correlation between the returns of two different assets for asset allocation and hedging purposes. In this exercise, you'll try to answer the question of whether stocks are positively or negatively correlated with bonds. Scatter plots are also useful for visualizing the correlation between the two variables.\n",
    "Keep in mind that you should compute the correlations on the percentage changes rather than the levels.\n",
    "\n",
    "- Compute percent changes on the stocks_and_bonds DataFrame using the `.pct_change()` method and call the new DataFrame returns.\n",
    "- Compute the correlation of the columns SP500 and US10Y in the returns DataFrame using the `.corr()` method for Series which has the syntax `series1.corr(series2)`.\n",
    "- Show a scatter plot of the percentage change in stock and bond yields."
   ]
  },
  {
   "cell_type": "code",
   "execution_count": 6,
   "metadata": {},
   "outputs": [
    {
     "name": "stdout",
     "output_type": "stream",
     "text": [
      "Correlation of stocks and interest rates:  0.4119448886249271\n"
     ]
    },
    {
     "data": {
      "image/png": "[encoded data removed]",
      "text/plain": [
       "<Figure size 432x288 with 1 Axes>"
      ]
     },
     "metadata": {
      "needs_background": "light"
     },
     "output_type": "display_data"
    }
   ],
   "source": [
    "import matplotlib.pyplot as plt\n",
    "\n",
    "# Compute percent change using pct_change()\n",
    "returns = stocks_and_bonds.pct_change()\n",
    "\n",
    "# Compute correlation using corr()\n",
    "correlation = returns['SP500'].corr(returns['US10Y'])\n",
    "print(\"Correlation of stocks and interest rates: \", correlation)\n",
    "\n",
    "# Make scatter plot\n",
    "plt.scatter(returns['SP500'], returns['US10Y'])\n",
    "plt.show()"
   ]
  },
  {
   "cell_type": "markdown",
   "metadata": {},
   "source": [
    "### Flying Saucers Aren't Correlated to Flying Markets\n",
    "\n",
    "Two trending series may show a strong correlation even if they are completely unrelated. This is referred to as ***\"spurious correlation\"***. That's why when you look at the correlation of say, two stocks, you should look at the correlation of their returns and not their levels.\n",
    "\n",
    "To illustrate this point, calculate the correlation between the levels of the stock market and the annual sightings of UFOs. Both of those time series have trended up over the last several decades, and the correlation of their levels is very high. Then calculate the correlation of their percent changes. This will be close to zero, since there is no relationship between those two series.\n",
    "\n",
    "- Calculate the correlation of the columns DJI and UFO.\n",
    "- Create a new DataFrame of changes using the `.pct_change()` method.\n",
    "- Re-calculate the correlation of the columns DJI and UFO on the changes."
   ]
  },
  {
   "cell_type": "code",
   "execution_count": 7,
   "metadata": {},
   "outputs": [
    {
     "data": {
      "text/html": [
       "<div>\n",
       "<style scoped>\n",
       "    .dataframe tbody tr th:only-of-type {\n",
       "        vertical-align: middle;\n",
       "    }\n",
       "\n",
       "    .dataframe tbody tr th {\n",
       "        vertical-align: top;\n",
       "    }\n",
       "\n",
       "    .dataframe thead th {\n",
       "        text-align: right;\n",
       "    }\n",
       "</style>\n",
       "<table border=\"1\" class=\"dataframe\">\n",
       "  <thead>\n",
       "    <tr style=\"text-align: right;\">\n",
       "      <th></th>\n",
       "      <th>DJI</th>\n",
       "      <th>UFO</th>\n",
       "    </tr>\n",
       "    <tr>\n",
       "      <th>Date</th>\n",
       "      <th></th>\n",
       "      <th></th>\n",
       "    </tr>\n",
       "  </thead>\n",
       "  <tbody>\n",
       "    <tr>\n",
       "      <th>1941</th>\n",
       "      <td>110.96</td>\n",
       "      <td>1</td>\n",
       "    </tr>\n",
       "    <tr>\n",
       "      <th>1942</th>\n",
       "      <td>119.40</td>\n",
       "      <td>2</td>\n",
       "    </tr>\n",
       "    <tr>\n",
       "      <th>1943</th>\n",
       "      <td>135.89</td>\n",
       "      <td>9</td>\n",
       "    </tr>\n",
       "    <tr>\n",
       "      <th>1944</th>\n",
       "      <td>152.32</td>\n",
       "      <td>9</td>\n",
       "    </tr>\n",
       "    <tr>\n",
       "      <th>1945</th>\n",
       "      <td>192.91</td>\n",
       "      <td>9</td>\n",
       "    </tr>\n",
       "  </tbody>\n",
       "</table>\n",
       "</div>"
      ],
      "text/plain": [
       "         DJI  UFO\n",
       "Date             \n",
       "1941  110.96    1\n",
       "1942  119.40    2\n",
       "1943  135.89    9\n",
       "1944  152.32    9\n",
       "1945  192.91    9"
      ]
     },
     "execution_count": 7,
     "metadata": {},
     "output_type": "execute_result"
    }
   ],
   "source": [
    "levels = pd.read_csv(\"Data/levels.csv\", parse_dates=[\"Date\"])\n",
    "levels[\"Date\"] = levels[\"Date\"].dt.year\n",
    "levels.set_index(\"Date\", inplace=True)\n",
    "levels.head()"
   ]
  },
  {
   "cell_type": "code",
   "execution_count": 8,
   "metadata": {},
   "outputs": [
    {
     "name": "stdout",
     "output_type": "stream",
     "text": [
      "Correlation of levels:  0.9399762210726432\n"
     ]
    }
   ],
   "source": [
    "# Compute correlation of levels\n",
    "correlation1 = levels.DJI.corr(levels.UFO)\n",
    "print(\"Correlation of levels: \", correlation1)"
   ]
  },
  {
   "cell_type": "code",
   "execution_count": 9,
   "metadata": {},
   "outputs": [
    {
     "data": {
      "text/html": [
       "<div>\n",
       "<style scoped>\n",
       "    .dataframe tbody tr th:only-of-type {\n",
       "        vertical-align: middle;\n",
       "    }\n",
       "\n",
       "    .dataframe tbody tr th {\n",
       "        vertical-align: top;\n",
       "    }\n",
       "\n",
       "    .dataframe thead th {\n",
       "        text-align: right;\n",
       "    }\n",
       "</style>\n",
       "<table border=\"1\" class=\"dataframe\">\n",
       "  <thead>\n",
       "    <tr style=\"text-align: right;\">\n",
       "      <th></th>\n",
       "      <th>DJI</th>\n",
       "      <th>UFO</th>\n",
       "    </tr>\n",
       "    <tr>\n",
       "      <th>Date</th>\n",
       "      <th></th>\n",
       "      <th></th>\n",
       "    </tr>\n",
       "  </thead>\n",
       "  <tbody>\n",
       "    <tr>\n",
       "      <th>1941</th>\n",
       "      <td>NaN</td>\n",
       "      <td>NaN</td>\n",
       "    </tr>\n",
       "    <tr>\n",
       "      <th>1942</th>\n",
       "      <td>0.076063</td>\n",
       "      <td>1.0</td>\n",
       "    </tr>\n",
       "    <tr>\n",
       "      <th>1943</th>\n",
       "      <td>0.138107</td>\n",
       "      <td>3.5</td>\n",
       "    </tr>\n",
       "    <tr>\n",
       "      <th>1944</th>\n",
       "      <td>0.120907</td>\n",
       "      <td>0.0</td>\n",
       "    </tr>\n",
       "    <tr>\n",
       "      <th>1945</th>\n",
       "      <td>0.266478</td>\n",
       "      <td>0.0</td>\n",
       "    </tr>\n",
       "  </tbody>\n",
       "</table>\n",
       "</div>"
      ],
      "text/plain": [
       "           DJI  UFO\n",
       "Date               \n",
       "1941       NaN  NaN\n",
       "1942  0.076063  1.0\n",
       "1943  0.138107  3.5\n",
       "1944  0.120907  0.0\n",
       "1945  0.266478  0.0"
      ]
     },
     "execution_count": 9,
     "metadata": {},
     "output_type": "execute_result"
    }
   ],
   "source": [
    "# Compute correlation of percent changes\n",
    "changes = levels.pct_change()\n",
    "changes.head()"
   ]
  },
  {
   "cell_type": "code",
   "execution_count": 10,
   "metadata": {},
   "outputs": [
    {
     "name": "stdout",
     "output_type": "stream",
     "text": [
      "Correlation of changes:  0.06026935462405376\n"
     ]
    }
   ],
   "source": [
    "correlation2 = changes.DJI.corr(changes.UFO)\n",
    "print(\"Correlation of changes: \", correlation2)"
   ]
  },
  {
   "cell_type": "markdown",
   "metadata": {},
   "source": [
    "### Looking at a Regression's R-Squared\n",
    "\n",
    "R-squared measures how closely the data fit the regression line, so the R-squared in a simple regression is related to the correlation between the two variables. In particular, the magnitude of the correlation is the square root of the R-squared and the sign of the correlation is the sign of the regression coefficient.\n",
    "\n",
    "In this exercise, you will start using the statistical package statsmodels, which performs much of the statistical modeling and testing that is found in R and software packages like SAS and MATLAB.\n",
    "\n",
    "You will take two series, x and y, compute their correlation, and then regress y on x using the function `OLS(y,x)` in the statsmodels.api library (note that the dependent, or right-hand side variable y is the first argument). Most linear regressions contain a constant term which is the intercept (the α in the regression `yt=α+βxt+ϵt`). To include a constant using the function OLS(), you need to add a column of 1's to the right hand side of the regression.\n",
    "\n",
    "- Compute the correlation between x and y using the `.corr()` method.\n",
    "- Run a regression:\n",
    "    - First convert the Series x to a DataFrame dfx.\n",
    "    - Add a constant using `sm.add_constant()`, assigning it to dfx1\n",
    "    - Regress y on dfx1 using `sm.OLS().fit()`.\n",
    "- Print out the results of the regression and compare the R-squared with the correlation."
   ]
  },
  {
   "cell_type": "code",
   "execution_count": 11,
   "metadata": {},
   "outputs": [],
   "source": [
    "x = pd.Series([1.2811550440412238, -0.6126310598985145, 0.9332222021268057, 2.2693265731638363, -1.427691082555, 0.6405188010777155, -1.596489626936219, 0.33561618750787203, -1.661094450815615, -0.892276781318839, -0.3853601714404014, 1.1750613930276552, 1.0795261289242912, -1.2035994956420473, -0.056172151726598965, -0.3766366045789261, 1.5701795772212934, -0.9428046774925836, 0.15111742087150695, 0.9206869830404033, 0.39865553922740776, 0.509308881338481, -0.33266116373611765, -2.23945925855725, -0.4534897919461296, 1.0290382457244724, -1.8780126981110872, 0.21017468558027702, -0.4757487221856649, -1.2186501112582493, 0.9308799884171601, -0.6028764223428251, -1.2009086565864688, -0.0964592154016757, 1.212574421217251, -0.6424298804905836, -1.37811844503333, 2.3018322938539786, 0.3649715099125608, 0.45720613554168227, -1.3774898420827786, -1.4383766335317467, 0.063973133855837, 0.44278722045348, -1.9974962921111783, -1.4044702210471958, 0.08692671859178444, 0.5570923022590792, 0.7522245332145279, -0.4545804023390465, -1.0680666881208938, -0.11323127134326061, 0.031636849769069254, -0.5913536163273568, -0.7743368977153091, 0.6947645888461771, 0.8286835284249676, -0.924767578153199, 1.2618915478818902, -2.3626119374754966, 0.14534783815545224, 0.049616126607182204, -1.6283838027917457, -0.6800270946068546, -0.5884337805404406, 0.7260916073821183, 0.8092150965860476, -0.6693518909217461, 0.9388824358296493, -1.5595639187088612, 0.8316986060383421, -1.1608014157128452, -0.5898791339712739, -0.09934721933319744, 0.2656448155523166, -0.18394678158088928, 0.9564584613417034, 1.0313898667732246, -0.6584946536221273, -1.3743996656695014, -0.0631732256437111, 0.026892033235163947, -0.8496921931994855, -1.729939107593855, -0.13857788040834806, 1.005633140702026, 0.7383585048100306, -0.06374618401822056, -0.43627521742932374, 0.41300383170708127, 0.23527973389250745, -1.4402823175412254, -0.037024592454535196, 0.3163210863597245, 0.4334010006371085, -0.1794067693088721, -0.22272937057979608, -0.9145161654283759, 0.23768785153671315, 0.2838865108117988, -0.8192423257468685, -1.9910712050577701, -0.04006354807978106, -0.12033738970715552, 0.15510748588618137, -0.4352447189222036, -0.0487281261986246, 1.0126578930049703, -0.7907201580971653, 0.7428329253873476, 1.100457607102351, 0.15812950730365105, -1.2496169877073868, 0.5361294618762135, 1.233762471342156, 1.7284866572391626, 0.25594780064858513, -0.41149149785151656, -1.0497931002530645, -0.6235509427190559, -0.22097480931607114, -0.46150241750214294, -0.4961601004936394, -1.0958358832877453, 1.5092875490667619, -1.6290323928216552, 0.28681646837921426, -0.7418999422719599, -0.5499656749845604, 0.6326764122049733, -0.029633564332853045, -0.012109250331289711, -1.0441640436490787, -0.5562011045733684, -1.0941654365809972, 0.8860495062314049, -1.5088203163123568, 1.1374329048126899, -1.5501735403499899, 0.6954523634231947, 0.9546853946527298, 1.3765439821968224, 0.19330216840911907, 1.892079712068668, 1.3575960296100273, 1.1969930896344374, -1.1278705031605591, 2.03058893387105, -1.7353520911623042, 0.026824698899590858, -0.9310507631310321, 0.7791126068047515, 0.4347688092705445, 0.8543492855148576, -0.36223449264905516, -0.9940674283863438, 1.1226780657187447, -1.3693434103086404, 0.09262208932661621, 0.16669856561892382, 0.4959097730434428, 0.05771982648856984, -0.6053809875603205, 1.6330030670912459, 0.288167641685169, 0.5595427949202992, 0.49161723704835875, 0.03710723132111678, -0.017796291447584375, -1.6570629840076838, 0.3972959690857464, -0.9938556824225638, 1.8668058033948733, 0.07302987315908709, 1.398213208859564, 0.27355501335685684, 0.6690414670643127, 1.1038295883597358, 1.3931754019172784, 1.5883723046544935, 0.5418476161290624, 0.5544303328617051, 0.9750753573422007, -1.916275205762016, -0.3626735851149104, 2.0628270289912463, -1.0723062135838064, 1.3360361211494085, 0.5475010717195191, -0.617524225013694, -0.9951149589811019, 1.0753160668536368, 0.3617901279608233, 0.9195681367049232, -0.4004585726579531, -0.6068603367567185, 0.048114274223299905, 1.6377358736628664, 0.33899410124172297, 0.21872786133555278, -1.6137386502993685, 0.18580232306052935, 0.22686320183666522, 1.5578421135323661, 0.1550583148874443, -0.3003998683723746, 0.32638341890705735, -1.370763314129386, -0.7321718364215666, -0.029719106687211696, 1.7250975811712936, 0.4285524229951472, 0.2782490086843458, 0.21799582474990986, 0.6062628073626953, 1.4581079982282943, -0.42615886544821197, -0.613083279799305, -0.5239485031323156, -1.670621825863721, -1.2640011981364627, 0.4132286076001853, -1.0532361755894544, 1.2835926349746098, -1.5735587350796931, -0.4084227724876398, 1.224872313494202, 0.3415187228815285, 0.19644259010643528, 0.18081070948849623, 0.3623181904942318, 1.689157463781665, -0.9965124679839346, -0.8218393586151007, -0.7848407321055315, -0.3228685919425816, -0.7392740033123055, -0.1500074064532319, 0.8107759705086444, 2.084423434792031, 0.8834937342698636, 2.8462671773195503, -0.14121234494487378, -0.8049187751604127, -2.321357750576519, 1.4134332889826897, 0.7466704197993697, 1.1506086948952838, -0.5060139080093885, -0.3354555917233457, -0.7174196055120188, 0.46658579812084167, -0.9298327945813356, 0.8456943454100372, 1.6050684916244604, -0.4352825695391445, -1.9727099686582816, 1.1880683084519628, -0.02323359841623244, -0.24158816746740822, 1.9061970426288974, 0.49757036585345893, 0.5293471899531691, -0.8387104275950436, -0.5384323931023147, -0.7710273505799191, -0.4109576100166529, -0.5375557392726514, -1.5226691060085205, 0.14313515560202128, 0.7624238993783363, 0.7334933564387248, 0.6587312472188919, 2.3626061416920234, 0.3191632013596961, 0.04647159859516381, -0.2755369854000762, -1.2814167482484604, -1.0777145898391958, -0.9643591443282876, 0.15456707448551382, 1.437029181593196, -1.3800682370220185, 1.0731570224196485, -0.05897203935250225, -0.1439819613811889, -1.2485507089306842, -1.0057958766239532, 0.2789286444875427, -1.8381512357957208, 0.4710816881100636, -0.913624085432763, 0.9228774883219917, -0.5269972810731411, -0.27566919969978776, -2.4872289245654806, 0.1324871295970721, -0.10288181143216761, 0.3028590233167439, -1.1743571235057015, -1.2880133585328295, -0.3417605743186503, -1.077587395061371, -2.151807645950538, -0.3927978678746878, 0.08400358092594723, -0.8270919285328677, -0.6129373404939361, 0.6952301625622106, 0.5021781114624926, 0.1799869140519854, -0.6192803879513986, 0.00587192506491817, 0.594271575339764, 0.5897645313049396, 0.5922167751763496, 2.134722295912065, 1.3347873183650223, -1.486619153082548, 0.08560166020524435, -1.6925581993269394, 1.011708416153619, -0.14020801309204117, 0.48184848501024724, 0.6718729525263696, -1.127862151776186, -0.2990782844837448, -0.7975916684903256, -0.3975826691867548, 2.142217744330889, 1.4066085892138767, 0.5273293230858743, 0.1378760563116852, 0.532649039316254, -1.223478422259192, -0.10299034282643785, -1.2822830722842427, 0.1032967267630437, 1.928093739383223, -0.7740374677171789, -0.7438198607084211, -0.18269039221875313, 0.7846498395908826, -0.10984657843530585, -0.3863608426004779, 1.5077979737496812, 0.00482917034885061, 1.732017154629424, -1.2295623137610412, -0.5725147309505427, -0.24956431539792898, -1.487353180389997, 0.4174945289618317, -1.6923016399179027, -0.23941151210717423, 0.965475945065727, 0.5473140277406429, 0.2719169871221121, 0.6603713592024104, -0.25902229365406354, -0.7604130478169479, -1.0078748877980297, 0.7870183151313934, -0.21502826189311067, -0.17072095044503943, 1.0236868222160658, 0.37755614563511675, 2.6108068431657854, 0.5246756173219759, 0.4836598162210405, 0.26742536748967183, 0.0169831633554079, 0.4562201011537283, -0.6606608098771884, 0.9949365427832687, -1.226735600080754, -1.6380411876107703, 2.041699248954565, 0.33493880002694376, 0.4529649856245742, -1.5153549153241226, 1.0909300176620387, 2.4913638757172443, 2.10651569366746, 1.9351030231528283, -2.1958407413708603, -0.4138797661100451, 0.250136395904108, 1.592751568266953, -1.2389426603316052, -0.26438440815028813, 1.6003122903891118, 0.4369099686809913, 0.66219670316823, 1.1573741156588628, 1.4986431755506244, 1.3255114982392833, -0.17931322235265917, -1.1957287571528918, 0.533196745245951, -0.3310345732826881, 0.9349535940920656, 1.5696533587044477, -0.5976302756882733, 0.630972928035347, -0.8272691085540191, 1.7440692032035177, -1.0589381321382874, 0.49376280519717664, 1.0662321134033914, -1.1480332637032122, 0.3315584422919956, -0.3645639530891268, 1.3957648949802663, 1.4190645340791712, 0.7116013566560508, 0.14958564285001907, -0.8387551985432976, -1.2123958029963737, 0.12306868449402704, 0.019751710655750914, 1.047685567212333, 0.29271014402798606, 0.5786548342762493, 0.7047096725632085, -2.708538556470341, 0.05010884493866954, -0.2969818564128184, 0.3999492635439395, 1.7223695598737703, -0.586845060734203, -0.026973741469146, -1.4616921654481712, 0.138495855842951, -1.123850873579895, 0.017135589417939627, 0.09308131402918762, 1.1230826990102114, -0.20143798281762954, -0.7258410981859367, 0.24627241367922775, 1.1296361715909322, 0.058552159550198345, -1.7983273468722822, 2.210210728664325, 2.249115280136353e-05, -0.5984532062176234, -0.45670278983757234, 1.1603754016024759, -1.0449496803465854, -0.4435199490079035, -1.8261954122445656, 0.2584637202654191, -0.4083742936784235, 0.693394936295836, -0.17069021353895084, 0.5684291527085978, 0.6665539259234277, 0.7259434644264395, -0.7818996934482328, -0.5742831908261057, -1.0057955675400962, 0.2767666945183962, -0.02657171937867959, 1.4859056991110522, 1.1814689108569423, -0.3200975323792521, 0.2979647582167218, -0.3232515902839842, 0.5459492822819827, 2.9272109032239864, 0.8037546198436225, -0.7499979255776861, 1.0195486390030897, -0.19318912479046815, 0.5013507507734484, -0.3154248752490127, -0.6909048361483536, -0.162428172141605, 0.6619320564839841, 1.541660251566514, 0.24676306444895935, -0.6081792360254962, 0.2230484458049995, -0.19688612727743685, -2.0280595004339546, -0.2019706712044319, 0.15767319852175163, -0.09038685208329725, -1.2842696550826431, 0.27116452125930596, -0.7124928794583623, 0.017356569438715625, 1.1873032421525376, 1.7072145367579399, 0.6655242675765024, 0.8527135331212987, 0.5509525519030603, -1.2461593572236154, -0.7068798069098832, 0.8567847697718416, -0.9234348937646064, -0.8806828886735357, -0.05609809998169541, 0.5019083657396824, -0.4157581652339636, 0.7576816160052998, -0.2833796697872356, -2.2915502845187197, -0.09944721684838555, 0.3980119421690809, 0.09454416205183548, 0.14329540595075083, -0.8734928742311916, 0.7584630765437268, -0.7908212321453724, -0.4320523265745874, 0.37025365268475396, -1.062001122245369, -0.4828920876000209, 0.6936722586624583, 0.5858808880619747, 1.4508861702159925, 0.7500862350496543, 0.5420294884948335, 1.0398706462749154, -0.1948557651599005, -2.385752240649883, -0.47077742637789227, 2.064509427221515, -1.386038447705097, -0.21990377100261563, -0.22630975846881524, -0.2588868206001651, -1.2646588934123528, -1.0834969364983877, -1.401409873741469, -0.0792912256992738, -0.2639577678483505, 0.032443527882877736, -0.1958118189742201, -0.2696672440142078, 2.356910173616174, -0.6625621350495404, -0.9823303116647341, -0.23929616612266164, -0.34032350329971356, -0.057851705966839494, -0.30298116057390284, -0.6066365014043973, 0.9809215742936962, -0.6705935056817571, -0.17471250370687091, -0.5779101748507249, -1.452565538806313, -0.6818093230131186, -0.875640737584392, 1.0829587238449638, 1.8344569102333776, 1.7031903105405986, -1.5062289827032123, 0.17890924580770518, -0.8351542433791986, 0.2710173607705894, 0.31965118866128406, 0.07953331906928739, -0.8475414408512983, 0.24929629756979074, 0.2938749017440937, 0.8625826904665663, -0.11273579413889787, 2.8006286023584983, -0.1117548423137034, 0.39703141240929996, -1.521600652092554, -1.0163254285070924, -0.28332438531049664, 1.2965563661393242, -0.9501724981207302, 0.2289047380394984, -0.5596777441867471, 0.020094441466944817, 1.0979926410447785, -1.3706395935376305, 1.5666130505215872, -0.7501925731978024, 0.6444428853456805, 0.5117080499010401, 0.017447261865881667, 1.2959498184802178, -1.2468030429927888, -0.8573379299224981, 0.8039631360433173, 0.9543085510513728, -1.545932002127972, 0.9610860616851591, -1.958830433328374, -0.4483478967243869, -0.3776644755498551, 0.5354507909342476, -1.0430895803398843, -1.0779232456335477, 0.33595254329514174, -0.5436533946867769, -0.5306417023748377, 0.8078920393134098, -0.8419042600738254, -1.424370805760945, 1.0103737412666025, -1.9600896409016224, 1.0225799813611687, -0.3422881659706962, -0.6327289414396146, 0.5735534796741496, 1.4513051087363864, 0.6070670062511726, 0.8195271507826488, -0.8639349441826176, 0.969726864583193, -0.38714731089393417, -1.423694462749488, -0.24029038589401666, -0.4859663413673385, 0.7421587411711145, 0.8955230500216699, -1.1931899850241667, -0.5250812576299323, 0.21044349786095048, -1.0435990843554972, -0.3553472314138764, -0.5745147739830379, 0.7270555706490947, -0.69252072507968, 0.0824295389407393, 0.5676522158489848, 0.4926951570286256, 0.12162848455760715, -0.3325245708296114, -1.040665362591346, -0.15104187318030327, 0.8482850141165379, 0.7282104379946829, 1.623223724188598, 1.065346721644724, -0.4631233870124684, -0.561463658403215, 0.08141045468279497, -0.6033751809042917, -1.2494181168901144, -1.0226185527491465, 1.6672766121243676, 0.5161077828412061, 0.7303143773731128, -1.2042140822667036, 0.42095035407325243, -0.5998653289544662, 0.4730008839090102, -1.9236000119268668, -1.1632113128844814, -0.34857698511954055, 0.6361644542059346, -0.28998923755127615, 0.5156222422474026, -2.0302343228889934, -1.408920553545117, -0.7164483539762333, 0.53851393409135, 1.632852293911881, -0.7059173661787806, -1.292958091755332, 0.22475214833323107, -0.7183152270319154, -0.0016646080338889222, -0.8232330902111494, 0.651173508629377, -0.23430488957409498, 0.9596102360167784, 0.28027084053186496, -0.3071623437513136, -0.150701948491389, 0.26539723370731777, 0.6575421788781195, -2.356978810174661, -0.4189421126781944, 0.33527442916251604, -0.6961444008576461, 0.23852841584644008, -0.9148663907490183, -0.6938629955169826, -0.6512048216975727, -0.44042201807582315, 0.4538387099487502, -0.9022531905831274, -0.43919529829075504, -0.48533301832222464, 1.400748938049492, -0.3041538855755456, 0.8022650307410149, 0.14423517799219773, -0.6162872691345818, -0.9003867648716256, -0.6426862410461465, -0.6385018025685305, -0.27749862681611087, -0.8898549936931711, -0.4845848557476576, -0.7462569079316493, -0.6660847909048132, -1.061698323614797, -0.4595916991858538, -0.4964001994536581, -1.1517433065966902, -0.7147352986264145, -0.979615491705565, -2.0022433379234714, -0.7920934071778448, 0.28918556795146877, -0.14459509154605615, 0.6300675586142113, 0.09113513829642259, 1.6182337171766665, 0.697616497978575, 0.40845000090522027, 0.0392003485912506, 1.2886297909140367, -0.9013774801911525, -0.7218805040877588, -2.3364088265360605, -0.15122718168423352, 1.5917319487562862, 0.10945483690096314, -0.5218476396593968, 0.014770133898636802, 0.5219232582969562, -1.6651425334274597, -0.9810023979643574, -0.49861418819806225, -0.37784158380837596, -1.9509977835799683, -0.7596789412979185, 0.5756436940108495, -0.1263915844750892, -0.2881655458555227, -0.21126222635427996, 0.8763471869337076, -0.16128480613787813, -0.595613530727245, 0.8223961660652714, 1.3938876633750859, -0.08179642293560137, -1.1508612743295161, 0.45892509993606106, 1.4622506372355752, 1.4968046003337594, 0.4330563169849272, 0.08146859954689607, -0.23758794588910806, 0.14433456436630293, 1.4297074738636055, -0.11910530737610853, 0.24994708657435719, -1.5397817734025403, 0.4710670256217842, -0.7528800491508506, 1.4973821201153297, -0.7370596961142618, -0.36600088826730276, 1.0788087412974006, 1.1097788135373696, 0.5606108417697564, 1.5254143138934957, -0.9083822366856663, 1.4745649737166788, 1.0676285887446368, 0.2614622875043119, -0.761594329523209, 0.16746351806632892, 0.29831306786322237, -0.3868078445771079, -0.3281181510361313, -0.20920587718194528, -0.6971623037562072, 0.8201147170205032, 0.8068979989605962, -0.14410762019304135, -0.03255522222679558, -1.0687328094882182, -0.27438958461986906, -1.5786072326056277, 0.0031124932782617726, 3.0875196913749394, -0.36685895820665904, 0.29001956648771726, 1.3781054114403108, -0.9691407832538603, -0.2555576493873456, 0.8684177508230642, -0.5193399002961957, -1.3421682606120884, 0.3147406832043353, 0.772758949221254, 0.632743021432991, 0.6282855528469061, -0.294330104752678, -1.1039735835170281, 0.4838728779399808, 1.091109943724447, -0.11402960847367027, 0.7216136659581276, -0.7952585606905005, 1.2900928276303572, 0.668708214494058, 1.6316989496194068, 0.4674668654867797, -1.4593356445396, 0.39301110318936955, -1.0780779185918286, 0.7399814906750249, -0.13169334753431958, 3.4530817839133077, 0.9851471428823663, 1.1702458168488377, -0.1374401186829724, -0.7140970042251803, -1.9273051033500685, 0.7415692564142079, 0.9767403767921218, -0.5386368829957875, 0.7941641292747003, -0.4426336706151123, 0.3611363176429492, 1.4393665592850737, 2.6426340756142896, -0.5173806148613016, -0.44752540165620003, 1.5207648982104383, -1.5542109065186518, -0.047589885387081685, 0.8049529740098417, 0.8584215654325545, 0.017913031835165235, 1.6261315194960824, 0.3903778618028171, -0.2824949808393406, -1.2822231331821135, 2.130088826538941, 0.01525282560618788, 3.753551482974148, 0.8933018228811488, 1.7967146397256244, -0.49568160024234537, 0.6706407731678474, 0.05766387793080424, -1.2120724687166047, -1.397301133108583, 0.1364103906471751, 0.22922870887051736, 0.09482754488813724, 0.4136402992332198, 0.9468518836081644, 2.3604601352516617, 0.7087840009586248, 0.6514681982249536, -1.5323044536529693, -0.6848120551306541, -0.5713992805749842, 0.13574232809169298, 0.08506206933983652, 1.0479594242103552, -0.03500546590392013, -1.4870046523111058, 1.4954443709311964, 0.5678162494115871, -1.2341719498736567, 0.7054584945121818, 0.12042410075608224, -0.029205904548573313, 0.8326703835870282, -0.2694083369965819, -0.2668229884277391, 0.45620238647435685, -0.34032229625850546, -0.6571342553469359, -0.52289564080822, 1.6514728722994687, 1.7022788554271675, 0.29758492780508267, 0.983691367511512, -0.33069743391009315, 0.14838735834684125, 0.4159273914669916, -1.7371164885762094, -0.9483051236350288, 0.2962478462192728, 1.130862479425501, -0.7521448321882552, 0.44055994741992077, -1.290473114630968, 0.38701573131336925, -1.2742461550579223, 0.15125253505998273, 0.24692691390378116, -1.4827692967810617, -0.7407891807851247, -0.3008623268715242, -0.9350653262601603, -1.0243160100912239, 0.40587665586893784, 0.813381859712616, 0.316200062837867, -0.45605550217223334, -0.10950542409640848, 1.8219947355667738, -0.11927902452886274, -0.18333975346505604, 0.8557516820631766, 0.14484051586829436, 0.7622419333896986, -1.8925454922311127, -0.818023396988202, -0.20544826880253692, -1.3199128745826836, 1.729563516423699, -0.09626352514342396, 1.1631185076895898, -0.5852350001243455, 0.7039075333859474, 0.617544368248742, -0.511282797504639, 1.3172490445252845, -1.0704715956704887, -0.5025752028483513, 0.04221309666716833, 1.4173558637443744, -0.06031795298007711, 0.18892275187271276, -0.04927489195075641, 0.8608987480623188, -0.5286370591510503, -0.7362899547896913, 1.6056121506761227, 1.1748273187350537, 0.5067017023831254, -2.085925519310575, 0.3396871039965605, -0.6564751973305406, -0.3331057193479064, -0.14696606994721095, -0.42788188240430064, -0.7232036028128643, -0.129793812318884, 0.4848980562907761, -1.1247681212903056, 0.5718077336743665, -0.4230129805204403, -0.5503507083933211, -0.7077830026673683, -1.4722981939474487, 0.7169901009692797, 2.6282023232584417, -0.11992815403676732, 0.4353676973975298, -1.1420916946045905, 1.3386924595354746, 0.9180706850375504, -0.6787382291510811, 0.4793461018723987, 1.397851133836866, -1.1313343392628266, -0.683984118806693, -0.8310011879258917, -0.14420594489065325, 0.9182054158071498, 1.216339774257903, 0.7748184342131297, 2.7340141733751624, 0.0005404319387118655, -1.6109057403686418, -1.0636523116621077, 0.04669677587569681, 0.23914254343351313, -0.09076924413605764, 1.2235224703671055, 0.8581408680020675, -0.1437251143017076, 1.740802785806922, -0.32070034322663066, -0.12664089914099344, -1.3801308078906984, 1.035784268964063, -0.05602888306554742, 0.16418240278246704, 0.7863503496394391, 0.25154225043142625, 0.4682238397718219, 1.0890322480832832, 0.7436922974132252, -1.6115703065738287, 1.011224254361624, 1.5719710523592254])\n",
    "y = pd.Series([-0.8351286009190672, -0.06100441499537612, -0.194677330631589, -2.4611421320699467, 1.040072990892944, -0.6828739396020767, 1.3107639678267742, -0.5298639831872226, 2.639054920254874, 1.0649845894270087, 1.052035801676665, -0.6492146582173699, -1.3647372713719814, 0.5646740628725941, -0.3292163536905029, -0.8749304916011758, -1.883174191714396, 0.8651524394848811, 0.15666513226527481, -0.793844987778514, -1.1712928255286783, -0.2526950984933609, 0.3273704057637023, 2.424119190394595, 1.454417921600079, -1.493598456173196, 1.5211081928494008, 0.26803795383150913, 1.2605576813226307, 1.6968970520786513, -0.5754065968246665, 0.009752477415448239, 1.561915809634276, -0.0077827232736593565, -1.123344542892297, 0.27072607156943584, 0.8874343256221449, -1.8368522031971426, -0.42133365389976307, -1.175414516001151, 1.0694182669881944, 1.7994158301635967, -0.5496034510258208, -0.985044049537418, 2.071036645930695, 0.8376931544450931, 0.43982915406535145, -0.09596389771269319, -1.3619875450452867, 0.285007545705001, 0.18352831476965914, 1.2752281128590326, -0.016368025541275942, -0.24134723602942829, 0.056375833843262335, -0.13893642883047652, -0.6045181655598098, 1.0494242786206278, -1.410579011186635, 1.4569839407534417, -0.3922580739101969, 0.28499606976433933, 1.5075322031407763, 0.9035176816076788, 0.3362393315340148, -1.2180458429821857, -0.6653524863688425, 0.8140115574040573, -0.13122804960129275, 1.4012502554784658, -0.7734647082014946, 1.309618437647121, 0.4950340199543207, 0.7900884968784077, -0.2015556492345248, 0.3108326180697597, -1.7958196412162415, -0.9562837890101289, 0.4211697757054076, 1.3103694234018777, -0.023570054303233504, 0.2881583503543797, 0.4479052396498257, 1.2402283884003817, 0.015864002170548185, -1.0392280889458745, -0.7057533944065573, 0.7220130094387418, 0.16292693533091762, -0.35040371958031274, 0.4174684307050774, 1.2797612914123162, -1.1065249909203736, -0.7537217897041183, -0.2582792036745885, 0.16600466912717265, 0.16632778775671594, -0.5304555619213652, -0.28726180106259136, -0.3813550423126317, 0.5517614900302444, 2.2988869499939746, -0.05235864358750514, -0.28900037602902284, -0.030476428364102706, 0.6944898693279178, -0.5845631094753875, -0.2916632456888246, 0.9560190622554623, -0.74120276252537, -1.347291281771406, -0.31985980150945287, 0.615143470662628, -1.1509086120876026, -1.17828298784928, -1.3913462901200206, -0.22518472313119609, 0.21732632728409726, 0.9628803906739333, 0.5345051781176213, 0.34604375756453193, 0.025778700949339116, 0.3535181985885683, 0.1332115507220299, -1.3467497524558527, 2.002482017436798, -1.0435253128347786, 0.7058620298051606, 0.6015288311009992, 0.6904611111905807, -0.041583058263442725, -0.24885630285378202, 0.8859602961150294, 0.6834794488264708, 1.2820754649058856, -1.4792728779721538, 1.2365965693647982, -1.4368954464740926, 0.9150349787144477, -0.9936577469384562, -1.4843326819574272, -1.582793263425021, -0.4985425104162844, -1.3315708369058545, -1.2332555735860795, -0.8981127007256928, 0.7353897756251918, -1.7194233851753498, 1.9212563409773007, 0.33978339077341935, 0.5603156861554537, -0.5058098466895491, 0.15403511311095938, -0.5186663257741796, 0.30568989517621464, 1.2982046637971552, -0.8363635677419465, 1.311006771933953, -0.3920973979405682, 0.14017971042533597, -1.0980191786092972, -0.6747515949956524, 0.41455952135834273, -1.78890508717576, -0.08730808916749108, 0.2761770828489287, -0.519522716313831, -0.16350248730212608, 0.259842285864462, 0.9552703090152659, -0.5975454381796642, 0.8343511124979328, -1.8275715472142229, 0.007357470866249986, -0.6294375283426397, -0.35776392846515653, -1.0853982206347939, -1.2797235485339382, -0.4734952482197081, -2.0929770660193125, -0.2406531601128485, -0.25213031345049236, -0.9485595561718797, 1.4834867550363189, 0.45521438502146405, -2.3262226647219744, 1.1327147851674544, -1.0271111332391483, -0.3864814910521105, 0.11722834295539541, 0.5445433254828663, -1.4701291926643976, -0.31286354900968205, -0.5864748140108972, 0.08973536473366796, 1.1261058916010336, -0.1442576147331307, -1.8199810453177645, -0.22925709425946764, -0.10959569693089637, 1.376753860943283, -0.7712788503736197, 0.20998084418460666, -1.8556224018418037, 0.22511925219840134, 0.44595162773616676, -0.11088269984684684, 0.606478957058956, 0.6880051085490362, -1.0628575995947624, -0.9657025138773654, -0.9136757654733096, -0.6114889769485324, 0.4604154281775538, -0.5372621991055229, -0.778268897850732, -0.05764535435919853, 1.149734070677476, -0.2092121091733229, 1.8093128333586201, 1.0176342671395302, -0.36383247546020187, 1.117183260206731, -1.166427504298986, 1.602988199266382, -0.15620395419868643, -1.5100569077149304, -0.2949813474272129, 0.5199522901637373, 0.29521358812747733, 0.2856512031937996, -1.956918449897968, 0.9197724014996493, 0.9940461549432806, 1.0590129550423013, 0.9903149317539083, 1.1837178740427534, -0.11020391792137656, -0.4749433371781799, -2.6690112923427125, -0.9942333813580929, -2.283349897856185, 1.0287445749254598, 1.2657184205737533, 2.0660175316732308, -1.5173466757092178, -0.8615351571905977, -0.8966450081164234, 0.4939737594811782, 0.27192857530052045, 0.7485638954826769, -0.050862984996839285, 1.5279603287615164, -1.0847064029232791, -1.7117580111758084, 0.3758920787990269, 1.7912112936648938, -0.9338254981311711, 0.269041239924053, 0.35060352969420205, -2.2309251076178858, -0.6531847485271, -0.3447290272489765, 0.33262521992775607, 0.8003958685249337, 0.13692565854859848, 0.44789540455929583, 1.3355443573541301, 1.5730451112880557, 0.13948070865982107, -1.4111891230665945, -0.187638343980973, 0.013243362197729269, -3.072426434616361, 0.07804947297679296, -0.08924880637945112, -0.5128548489001585, 0.9760750830094682, 1.0461755585253074, 1.1178687801853213, -0.05337978977617685, -1.4343327845105922, 1.9651101843833167, -0.8470074346493587, 0.42442974830423524, 0.0395558010498794, 1.345326196281462, 1.4415546340271979, -0.35361343763228753, 1.9237847350303976, -1.0077573572133016, 0.9853096167802949, -0.6211939804749285, -0.21558974556080812, 0.8718902074054266, 2.502837825731818, 0.5860048041907306, 0.22601843601179708, -0.9264425309488689, 0.6047991987791652, 0.9355350050934457, 0.17527559483491692, 1.212129996285403, 1.6671722546010892, 0.4139698006528976, 0.6297140643644672, 0.3139029645907753, 0.42706670492387344, -0.22750854651242883, -0.671998676579982, 0.2431602828428717, 0.5144468523538015, -0.524697682245477, -0.8869196935567136, 0.298742909953898, -0.7245155562878318, -1.8661387374721192, -1.7402264782147339, 0.5452665418204603, 0.27258496682237804, 1.2810800520845667, -0.20473996011401668, -0.18905922818964352, -0.9167888952990743, -0.1852059605567809, 0.6027125075608392, 0.11922698339665362, 0.7276654726847182, 0.3266522643178294, -2.1211976117402878, -1.072482605927704, -0.7978992083312557, 0.12052125541513824, 0.20175742263808755, 1.990659299330785, -0.5597616267088866, 1.096087800275874, 0.17769656555972038, -1.1995285876412514, 0.9315781085278209, 0.9928966083438362, 0.045049531009922, -0.6562037083491528, 0.5942678096267451, 0.004797525042239186, -1.564845506871891, -0.04869705977825815, -1.2515017358911724, 0.8613779951720202, 0.9986336465646574, -0.17461716554909484, 1.6577064243902737, -0.07186756079736258, 1.4699648631778892, 1.1084191586892835, -1.2111096173220595, -0.6181200759656393, -0.13739717717278396, -0.938834936851383, 0.32830098343116143, 0.9434821803499186, 0.49673119671066546, 0.03960232855322794, 0.5492725554776009, 0.36093692831721746, 0.5735719614904095, -0.3946939152059685, -2.1160693536411297, -0.5518635680566477, -0.5456807148119283, -0.28667423479323867, -0.08594587515020048, 0.12896714068903015, 1.0575370799085069, -0.4328691796731137, 0.9792456604321654, 1.3324932571029853, -1.5490818521503682, 0.1019538053880786, -1.0172456892719937, 0.8860052812538409, -1.95207865452835, -2.9560654830566793, -2.1224389504593404, -2.424476973402556, 2.350184993909178, -0.31094255442247554, -0.22862159240944485, -1.5363218522876991, 1.0831968948433943, -0.6488688721809964, -1.1272966611367068, -0.8526896514981273, -0.6878963364437285, -1.100794214133822, -1.1524998517053378, -0.7350695563049733, -0.19887046298447833, 0.581035065845718, -0.5332305217730403, -0.5672321558963068, -0.8597169089303115, -1.0032889586016045, 0.3676549816070723, 0.20154385703720945, 0.9973082794075395, -1.0152848661244311, 0.9925692251760728, -0.5777960012661414, -1.2767738153751444, 0.33964045300533535, -0.2806852246508079, -0.1626726809919302, -0.9086753281969658, -0.9679821133040046, -0.2287017484302373, -0.6712474761904214, 0.8309776075195926, 1.6113998109762353, -0.3241661494135685, 0.06531279533116849, -0.6711587435663129, -0.48189390293423895, -0.4753407715250453, -0.6443492043894243, 2.6845636770790255, -0.7959221408352424, -0.1990813019576479, -0.3321482864839041, -1.6519500762163362, 0.006764297216013477, -0.7917251445212186, 1.609524556893827, -0.21158658130421582, 1.081738758533241, 0.662016196505634, -0.5817226860721069, -0.4841648088498559, -0.023211398741577356, 1.1721412087903582, -0.6809357811910692, -1.931887685845895, -0.4580015305105127, 1.8245062266219392, -1.5757357083224197, 0.31525391701854727, 0.731077334942962, 0.5634798083057991, -0.9963677766855772, 0.9510095967894265, 0.6311659192646828, 1.7131620415049307, -0.31075718420451387, -0.6079712440343344, -0.5592822574491567, -0.1867851236334443, -0.7274641784212689, -0.8959971340932692, -0.32552144880940265, 1.1994116402176425, 0.25751174579805997, 0.8652584328547716, 0.3217037211381487, 0.13716049965096547, -1.2681085218036827, -0.7289157387036611, -0.6799475756041976, -0.3999449039817398, 0.6231138473325765, -0.09298085509382946, -3.2465164901782626, -1.3646425370290651, 1.120814201007724, -0.49270553055824784, 0.004606261917645445, -0.849404447840968, 0.6061829861423851, -0.2259803829117142, 0.41528120242872174, -0.6425898256870864, -2.0917191379940356, -0.3852879872746276, 0.07737006632550128, -0.44208462240686014, 0.8323957730786525, 1.326631787764381, -0.29556756172921794, 0.031462053121549025, 0.06846815404386546, 1.6067059132638761, -0.26033687150137474, 0.9851994841659273, -0.8112693032942038, -1.1220193480659464, -1.775367428150278, -0.21864482871235116, -1.7166268838508927, -0.2670778495323081, 0.8394959526625937, 0.2098330002179524, -0.6029486915581515, 0.4764982356085541, 0.04506436899875718, -0.4511530380389726, -1.0725875065282233, 0.6634583586114344, -0.5897161023344912, 0.22593429888349945, 1.9154979347685708, -0.07156146139542914, -0.3267207266534765, -0.4793387070970653, 0.38545938086748527, 0.9642971299389009, -0.6750892246414598, 1.323537265071567, 0.26910683304195515, -0.02498421762860199, 0.2759339588922596, 0.8009899035818229, -1.0357822141384223, -0.8901036618630953, -1.310867202679047, -0.7815628434531199, -0.42791063166025234, -0.9301846361158219, 0.5649673152228756, 1.450135885822667, 0.15363016218797498, -1.6881207700896754, 1.2108972111953078, 0.1912477816463337, 0.6200973167111856, 0.41351983396980974, 1.1910197089897347, 0.7158871721876354, 1.7313754203157241, -0.8663634540184704, -0.2645634670436962, 0.6165388990391645, 0.1162021576778026, 0.39741389527177323, -2.2491599323467155, 0.5465810303146639, 0.9252325061115448, 1.2558596740012449, -0.5282244055567069, -0.7139897685127677, 0.8885407174426136, 0.7498826888948223, -0.27626958615143227, 0.7978121589570587, 0.22463377612490337, 0.3036219218847386, 1.5206939474266443, 0.48791214187544585, -0.14478996902488192, -1.0970071130274728, -0.7435177758190721, -1.5484987928781087, 1.7214670990104932, -0.42583558677259536, 0.47726231473696157, 0.038096052897151116, -0.2805155223625518, -0.5132399922408362, 1.4705396030720284, -0.36806556637150684, -0.05291475247876026, -0.9021724106554729, 0.39986577222888964, -2.620221202571141, 0.5624246103349794, -0.6288460130766073, 0.822535721205695, 2.15935617933679, 0.6474002907697215, -1.60717294563803, 1.1119812403517202, -0.12476249608497518, 0.4286013618780339, -0.03633159309394091, -0.9532767239907178, 2.1451966050479645, -1.311419010975985, 0.56660671312809, -1.2351290037741947, -0.35517920546109255, -0.2906648448779417, -1.1391047395660956, 0.8322709351313324, 0.016811048440167207, -0.47767425446309264, -1.224620872006959, 1.2181942107787327, -0.7035588452833823, 1.8516467744656862, 1.0501941704766498, 0.256953520471082, -1.1728245091137073, 1.1240160761185238, 1.5201840920392329, -0.8667444118086592, 0.2607877167620652, 0.2036606154765182, -0.8709450461805627, 0.9789930688211912, 0.8727052412665653, -1.050248959756164, 2.261639558143545, -1.0566310270913808, 0.0879641689887834, 0.5627641014888486, -0.009949510620575518, -1.8814375338069855, -0.9861615054025421, -0.601074061339009, 1.2736010499868522, -1.0177656092236762, 0.49447989411611204, 1.121675811107636, 0.06443226401984596, 0.0034689738695751183, -1.0686742438906895, -0.20327072084000522, 1.0980901612023022, -0.18797220682385504, -0.1390616280261179, 1.1897505980676946, 0.4885108439456383, -0.050134919134401, -0.08535468633790749, 0.9135491124267225, 0.2124816186721891, -1.2742763336812466, -0.25212865228164333, 0.3318276218970302, 0.3525786106287421, 1.5470792059323741, -0.3422570211804259, -0.9204881581661553, 0.01316341403563022, -1.6519606801021933, -1.013111337887004, 0.2820479552777713, 0.47263499017623906, -0.26829597409628075, 0.6653149184703697, 1.817390508429139, 0.05688688992439631, -1.2262119474031368, -0.4110824615891767, -0.4987084352785847, 0.6632521116301329, -1.164992319734768, -0.14487071556052242, -0.24062371480622027, 2.088361703429373, 1.279110670671242, 0.2542493976331204, -0.11096657857793092, 0.44038553510059264, -0.6699295955570451, 2.0000465866003365, 1.1762569151543973, 0.8460488856960432, -0.24846778832539768, -1.3758737786327224, 0.8280394084692945, 1.2625026425566397, -0.06597364397623037, 0.9731556523617573, -0.4434148149501292, 0.4701260817399749, -0.9439388371569425, -0.12180971530516568, -1.2542533108639282, -0.07710865015291997, -0.17603499466635414, 0.2950426056823578, -0.6214892965784424, -0.8953758772257824, 1.9593735415796323, 0.09958572299840592, -0.6510682451385197, 0.8656865759426796, -0.013609070052617028, 0.5344150561018873, 0.37292834968210176, 0.9822316450476345, 0.3465401042268712, -0.5717370481593201, 0.5971054703288382, -0.34236822612223855, 0.02223063152501999, -1.1687725906574817, 0.10586944426631484, 0.21337214590510878, -0.23422172147043996, 0.6552898120563176, 1.0244656411284943, 0.8409496290315752, 0.6194268145648701, 0.1562878693937707, 0.287888193886669, 0.9309153610206364, 0.6997029925032779, 0.31878825262511706, 0.5701143012807507, 0.6978033278005473, 0.29645831542061674, 0.33009348152386797, 0.800348934463625, 1.0690801175262108, 1.5810489275007527, 0.3958601539534113, 0.04281354616881958, 1.0745930617700512, -0.054950273680818396, -0.4045871868644608, -1.5454852016847376, -0.3185952077687233, -0.6215926970923221, 0.7305507571259972, -0.8335395096830446, 0.802567438371458, 0.5947482213539691, 2.2862782880716557, 0.00552874477217613, -1.709417717939578, 0.5617781652973668, 0.43715335055980953, 0.13162092831509203, -0.21681758902938303, 1.502737480383597, 1.372907435310837, 0.5486688465014347, 0.28062040088401696, 1.6297181252760515, 1.4527355642894983, -0.05426108354313248, 0.15427972976539, -0.4335169417881578, 0.8568382011803327, -0.4974058190480708, -0.32738069328901365, 1.3496321241965947, -0.725886713891028, -1.4126739073506405, 0.8657214303512696, 1.8854088632627228, -0.5685662517104995, -1.7820779034972276, -1.3333315305007223, -0.9256273304326064, -0.6113616832331479, 0.36479673242228206, -0.47110257310565057, -1.1813444496459788, 0.3267534955325383, -0.34740544104937127, 1.2711920562999022, -0.13838837257970832, -0.16239722670141785, -1.7929148468748217, 1.0374410281852575, 0.6467365826435185, -0.8100123096600219, -0.6861337314986262, -0.4346638307931161, -2.128655774250894, 1.2177395000370108, -0.8996308771909305, -1.0587017116974322, -0.6744261177245441, 1.5151409625322352, 0.5149839442728665, -0.24987599015708883, -0.13048809645106724, 0.6455025719498002, -0.5473682454010533, 0.019627662862032696, -0.7613413282985465, -0.6934503519759025, -0.5850725868256018, 0.2948816300949554, 0.9047985827761954, -0.3942433390587412, 2.251667356221582, -0.05894343129140028, -2.6245361983282276, 0.7303594772766099, -0.49995451917562633, -1.0301688826703248, 1.4717564854918987, 0.10947456718482437, -1.1822501238511427, 0.3920837621715219, 1.8575175444530967, -0.8584012859084936, -0.2963052111610501, -0.3885697714869025, -0.47481787633773975, 0.7352081350739362, 1.6899257763805653, -0.549621655536818, -1.1965116085691776, -0.06662676646404964, -0.2600533788212141, 0.97375136675372, -1.2002337976178175, -0.08029700605296085, -1.8816125018560808, -0.6761251158864803, 0.4073289815726317, -0.012557251751150106, 0.8325228343702813, -0.5851500736714067, 0.16273136414455638, -3.9571685184156546, -0.6975843905737343, -1.638311891490591, -0.4383899498731495, 0.5390559572860592, 1.6456863317405426, -0.381813516712245, -0.30074647336334515, 0.40273764267681067, 0.48071112756120604, 0.5099290379543837, 0.10269664410803683, -1.5203963064975958, -2.8811812178653438, 1.1355330381166666, 0.733728056466949, -1.8241428894973772, 1.3199335876913987, -0.3126683869300254, -1.0152637656368146, -0.43021374462763834, 0.43774566758539546, -1.0780922109710034, 0.4322037424391844, -0.3853746142222261, 1.2211837374674344, -2.065155791036126, 0.4659994235011272, -3.239761434249477, -0.03185757015558928, -1.552831668631661, 0.3069061540090139, -0.8377846308107615, -0.618218395526103, 0.7236256247824069, 0.5972652740685637, -0.20899607885924681, 0.19843980984266132, -0.299619802946286, 0.025079303856235437, -1.403308713220161, -1.4538469569917025, -1.5519746708504625, -0.9253665117890424, 1.324395199438293, -0.1160490200892289, -0.16596481627273799, -0.47556696161315065, 0.19865412914889677, -1.5561811954881166, 0.342368979767648, 1.2759682548933864, -1.4119828118737403, -0.9812295297180748, 1.5108705191089844, -0.7138265475096489, -0.04659109590334553, -0.8205278901107289, -1.070586489272524, -0.21460841610333678, 0.09631320741008491, -1.0242871391502386, 0.5300497061994761, 0.9027834176968405, 0.6937663940700887, -1.776298629948592, -1.0899486001439687, 0.27026714926143897, -1.0247765298666414, 0.1827134956160951, 0.5144562902463607, -1.59564219165742, 1.3830743733075401, 1.2398496146033884, -0.12615248531274562, -1.092448104166287, 0.4058527095300118, -0.30076387552194483, 1.2890622273482375, -0.4524948562808326, 0.9873531167931605, -0.43400815098799417, -0.15135933523977815, 0.5326303447803972, 0.3420580637655695, 0.8552439475444681, 1.005706640275822, 0.6024218879610441, 0.27365147653603067, -0.7251604071340673, -0.4034552233141353, 0.33552298351653376, -0.1161510741361051, -1.7356404162116643, 0.7374057890601887, -0.440392863540994, -0.6140808783233639, -0.019937835373290917, 0.07396203397441399, 1.475923263020116, 0.954004231593583, -0.1790158879202037, 1.8410322470217249, -1.1108473941141084, -0.17107654683025816, -0.7405820189209587, 0.19430488124406078, -0.877213133892288, -0.3815138372168757, 0.22701151896720698, -1.913831653047473, 0.6255788269572155, -0.28593281727612363, 0.816225208825358, -1.1715237715870714, 0.4708081327913606, -0.06691172858963793, 0.30545798867900137, -0.7748330455340461, 1.0509783310521734, 0.23006360328719602, -1.4228692443994069, -0.7972294037423477, -0.05429329907326862, 2.0580539716569923, 0.11356072183027066, 1.4174575043243387, 0.05007901143451323, -0.13192938376661625, 0.03959328983755052, 1.035130682671959, 0.14123199175408116, 0.10196031148966289, 1.1899346797509782, -1.0981103018572353, 0.13766300733678496, 0.3774152067624021, 0.8005419199122669, 0.4732653940626776, 0.27438769057062173, -2.2513567954103326, 0.694911145290376, 0.09697499121064398, 1.2300944273844185, -0.930384419140953, -0.9795073550971156, 1.1671257547001797, -0.19895080857955924, -1.60910629513907, 1.7321157382917554, 0.620553808442369, 0.8206132246477095, 0.1837319831396932, -0.5935619708743829, -0.8693714074655606, -1.0977405113428507, -2.8038168150266114, 0.3693376381270472, 0.9444620352467245, 0.8561298846744425, -0.0937742156636077, -0.6371228668572977, 0.4535243360287085, -1.2322246907687768, -0.3680297493571115, 0.8184385530730466, -1.2782960057055743, -0.003607082617419526, 0.8269922697547579, 1.7478379673018143, -0.8972091198449379, 0.6114756025487191, -0.15721848971159086, -0.4875726168694107, -0.1683700970680314, -0.4470976422645183, -1.0170804253102823, -0.4309430601515828, 1.9897793997817539, -1.1719066305299213, -1.5659023361893578])"
   ]
  },
  {
   "cell_type": "code",
   "execution_count": 12,
   "metadata": {},
   "outputs": [
    {
     "name": "stdout",
     "output_type": "stream",
     "text": [
      "The correlation between x and y is -0.90\n"
     ]
    }
   ],
   "source": [
    "# Import the statsmodels module\n",
    "import statsmodels.api as sm\n",
    "\n",
    "# Compute correlation of x and y\n",
    "correlation = x.corr(y)\n",
    "print(\"The correlation between x and y is %4.2f\" %(correlation))"
   ]
  },
  {
   "cell_type": "code",
   "execution_count": 13,
   "metadata": {},
   "outputs": [
    {
     "data": {
      "text/html": [
       "<div>\n",
       "<style scoped>\n",
       "    .dataframe tbody tr th:only-of-type {\n",
       "        vertical-align: middle;\n",
       "    }\n",
       "\n",
       "    .dataframe tbody tr th {\n",
       "        vertical-align: top;\n",
       "    }\n",
       "\n",
       "    .dataframe thead th {\n",
       "        text-align: right;\n",
       "    }\n",
       "</style>\n",
       "<table border=\"1\" class=\"dataframe\">\n",
       "  <thead>\n",
       "    <tr style=\"text-align: right;\">\n",
       "      <th></th>\n",
       "      <th>x</th>\n",
       "    </tr>\n",
       "  </thead>\n",
       "  <tbody>\n",
       "    <tr>\n",
       "      <th>0</th>\n",
       "      <td>1.281155</td>\n",
       "    </tr>\n",
       "    <tr>\n",
       "      <th>1</th>\n",
       "      <td>-0.612631</td>\n",
       "    </tr>\n",
       "    <tr>\n",
       "      <th>2</th>\n",
       "      <td>0.933222</td>\n",
       "    </tr>\n",
       "    <tr>\n",
       "      <th>3</th>\n",
       "      <td>2.269327</td>\n",
       "    </tr>\n",
       "    <tr>\n",
       "      <th>4</th>\n",
       "      <td>-1.427691</td>\n",
       "    </tr>\n",
       "  </tbody>\n",
       "</table>\n",
       "</div>"
      ],
      "text/plain": [
       "          x\n",
       "0  1.281155\n",
       "1 -0.612631\n",
       "2  0.933222\n",
       "3  2.269327\n",
       "4 -1.427691"
      ]
     },
     "execution_count": 13,
     "metadata": {},
     "output_type": "execute_result"
    }
   ],
   "source": [
    "# Convert the Series x to a DataFrame and name the column x\n",
    "dfx = pd.DataFrame(x, columns=['x'])\n",
    "dfx.head()"
   ]
  },
  {
   "cell_type": "code",
   "execution_count": 14,
   "metadata": {},
   "outputs": [
    {
     "name": "stderr",
     "output_type": "stream",
     "text": [
      "C:\\Anaconda3\\envs\\myenv\\lib\\site-packages\\numpy\\core\\fromnumeric.py:2542: FutureWarning: Method .ptp is deprecated and will be removed in a future version. Use numpy.ptp instead.\n",
      "  return ptp(axis=axis, out=out, **kwargs)\n"
     ]
    },
    {
     "data": {
      "text/html": [
       "<div>\n",
       "<style scoped>\n",
       "    .dataframe tbody tr th:only-of-type {\n",
       "        vertical-align: middle;\n",
       "    }\n",
       "\n",
       "    .dataframe tbody tr th {\n",
       "        vertical-align: top;\n",
       "    }\n",
       "\n",
       "    .dataframe thead th {\n",
       "        text-align: right;\n",
       "    }\n",
       "</style>\n",
       "<table border=\"1\" class=\"dataframe\">\n",
       "  <thead>\n",
       "    <tr style=\"text-align: right;\">\n",
       "      <th></th>\n",
       "      <th>const</th>\n",
       "      <th>x</th>\n",
       "    </tr>\n",
       "  </thead>\n",
       "  <tbody>\n",
       "    <tr>\n",
       "      <th>0</th>\n",
       "      <td>1.0</td>\n",
       "      <td>1.281155</td>\n",
       "    </tr>\n",
       "    <tr>\n",
       "      <th>1</th>\n",
       "      <td>1.0</td>\n",
       "      <td>-0.612631</td>\n",
       "    </tr>\n",
       "    <tr>\n",
       "      <th>2</th>\n",
       "      <td>1.0</td>\n",
       "      <td>0.933222</td>\n",
       "    </tr>\n",
       "    <tr>\n",
       "      <th>3</th>\n",
       "      <td>1.0</td>\n",
       "      <td>2.269327</td>\n",
       "    </tr>\n",
       "    <tr>\n",
       "      <th>4</th>\n",
       "      <td>1.0</td>\n",
       "      <td>-1.427691</td>\n",
       "    </tr>\n",
       "  </tbody>\n",
       "</table>\n",
       "</div>"
      ],
      "text/plain": [
       "   const         x\n",
       "0    1.0  1.281155\n",
       "1    1.0 -0.612631\n",
       "2    1.0  0.933222\n",
       "3    1.0  2.269327\n",
       "4    1.0 -1.427691"
      ]
     },
     "execution_count": 14,
     "metadata": {},
     "output_type": "execute_result"
    }
   ],
   "source": [
    "# Add a constant to the DataFrame dfx\n",
    "dfx1 = sm.add_constant(dfx)\n",
    "dfx1.head()"
   ]
  },
  {
   "cell_type": "code",
   "execution_count": 15,
   "metadata": {},
   "outputs": [
    {
     "name": "stdout",
     "output_type": "stream",
     "text": [
      "                            OLS Regression Results                            \n",
      "==============================================================================\n",
      "Dep. Variable:                      y   R-squared:                       0.818\n",
      "Model:                            OLS   Adj. R-squared:                  0.817\n",
      "Method:                 Least Squares   F-statistic:                     4471.\n",
      "Date:                Thu, 05 Mar 2020   Prob (F-statistic):               0.00\n",
      "Time:                        22:22:42   Log-Likelihood:                -560.10\n",
      "No. Observations:                1000   AIC:                             1124.\n",
      "Df Residuals:                     998   BIC:                             1134.\n",
      "Df Model:                           1                                         \n",
      "Covariance Type:            nonrobust                                         \n",
      "==============================================================================\n",
      "                 coef    std err          t      P>|t|      [0.025      0.975]\n",
      "------------------------------------------------------------------------------\n",
      "const         -0.0052      0.013     -0.391      0.696      -0.032       0.021\n",
      "x             -0.9080      0.014    -66.869      0.000      -0.935      -0.881\n",
      "==============================================================================\n",
      "Omnibus:                        0.048   Durbin-Watson:                   2.066\n",
      "Prob(Omnibus):                  0.976   Jarque-Bera (JB):                0.103\n",
      "Skew:                          -0.003   Prob(JB):                        0.950\n",
      "Kurtosis:                       2.951   Cond. No.                         1.03\n",
      "==============================================================================\n",
      "\n",
      "Warnings:\n",
      "[1] Standard Errors assume that the covariance matrix of the errors is correctly specified.\n"
     ]
    }
   ],
   "source": [
    "# Regress y on dfx1\n",
    "result = sm.OLS(y, dfx1).fit()\n",
    "\n",
    "# Print out the results and look at the relationship between R-squared and the correlation above\n",
    "print(result.summary())"
   ]
  },
  {
   "cell_type": "markdown",
   "metadata": {},
   "source": [
    "### A Popular Strategy Using Autocorrelation\n",
    "One puzzling anomaly with stocks is that investors tend to overreact to news. Following large jumps, either up or down, stock prices tend to reverse. This is described as mean reversion in stock prices: prices tend to bounce back, or revert, towards previous levels after large moves, which are observed over time horizons of about a week. A more mathematical way to describe mean reversion is to say that stock returns are negatively autocorrelated.\n",
    "\n",
    "This simple idea is actually the basis for a popular hedge fund strategy. If you're curious to learn more about this hedge fund strategy (although it's not necessary reading for anything else later in the course), see [here](https://www.quantopian.com/posts/enhancing-short-term-mean-reversion-strategies-1).\n",
    "\n",
    "You'll look at the autocorrelation of weekly returns of MSFT stock from 2012 to 2017. You'll start with a DataFrame MSFT of daily prices. You should use the `.resample()` method to get weekly prices and then compute returns from prices. Use the pandas method `.autocorr()` to get the autocorrelation and show that the autocorrelation is negative. Note that the `.autocorr()` method only works on Series, not DataFrames (even DataFrames with one column), so you will have to select the column in the DataFrame.\n",
    "\n",
    "- Use the `.resample()` method with rule='W' and how='last'to convert daily data to weekly data.\n",
    "    - The argument how in `.resample()` has been deprecated.\n",
    "    - The new syntax `.resample().last()` also works.\n",
    "- Create a new DataFrame, returns, of percent changes in weekly prices using the `.pct_change()` method.\n",
    "- Compute the autocorrelation using the `.autocorr()` method on the series of closing stock prices, which is the column 'Adj Close' in the DataFrame returns."
   ]
  },
  {
   "cell_type": "code",
   "execution_count": 16,
   "metadata": {},
   "outputs": [
    {
     "data": {
      "text/html": [
       "<div>\n",
       "<style scoped>\n",
       "    .dataframe tbody tr th:only-of-type {\n",
       "        vertical-align: middle;\n",
       "    }\n",
       "\n",
       "    .dataframe tbody tr th {\n",
       "        vertical-align: top;\n",
       "    }\n",
       "\n",
       "    .dataframe thead th {\n",
       "        text-align: right;\n",
       "    }\n",
       "</style>\n",
       "<table border=\"1\" class=\"dataframe\">\n",
       "  <thead>\n",
       "    <tr style=\"text-align: right;\">\n",
       "      <th></th>\n",
       "      <th>Adj Close</th>\n",
       "    </tr>\n",
       "    <tr>\n",
       "      <th>Date</th>\n",
       "      <th></th>\n",
       "    </tr>\n",
       "  </thead>\n",
       "  <tbody>\n",
       "    <tr>\n",
       "      <th>2012-08-06</th>\n",
       "      <td>26.107651</td>\n",
       "    </tr>\n",
       "    <tr>\n",
       "      <th>2012-08-07</th>\n",
       "      <td>26.377876</td>\n",
       "    </tr>\n",
       "    <tr>\n",
       "      <th>2012-08-08</th>\n",
       "      <td>26.438896</td>\n",
       "    </tr>\n",
       "    <tr>\n",
       "      <th>2012-08-09</th>\n",
       "      <td>26.587088</td>\n",
       "    </tr>\n",
       "    <tr>\n",
       "      <th>2012-08-10</th>\n",
       "      <td>26.517351</td>\n",
       "    </tr>\n",
       "  </tbody>\n",
       "</table>\n",
       "</div>"
      ],
      "text/plain": [
       "            Adj Close\n",
       "Date                 \n",
       "2012-08-06  26.107651\n",
       "2012-08-07  26.377876\n",
       "2012-08-08  26.438896\n",
       "2012-08-09  26.587088\n",
       "2012-08-10  26.517351"
      ]
     },
     "execution_count": 16,
     "metadata": {},
     "output_type": "execute_result"
    }
   ],
   "source": [
    "MSFT = pd.read_csv(\"Data/MSFT.csv\", index_col='Date', parse_dates=True)\n",
    "MSFT.head()"
   ]
  },
  {
   "cell_type": "code",
   "execution_count": 17,
   "metadata": {},
   "outputs": [
    {
     "name": "stderr",
     "output_type": "stream",
     "text": [
      "C:\\Anaconda3\\envs\\myenv\\lib\\site-packages\\ipykernel_launcher.py:2: FutureWarning: how in .resample() is deprecated\n",
      "the new syntax is .resample(...).last()\n",
      "  \n"
     ]
    },
    {
     "data": {
      "text/html": [
       "<div>\n",
       "<style scoped>\n",
       "    .dataframe tbody tr th:only-of-type {\n",
       "        vertical-align: middle;\n",
       "    }\n",
       "\n",
       "    .dataframe tbody tr th {\n",
       "        vertical-align: top;\n",
       "    }\n",
       "\n",
       "    .dataframe thead th {\n",
       "        text-align: right;\n",
       "    }\n",
       "</style>\n",
       "<table border=\"1\" class=\"dataframe\">\n",
       "  <thead>\n",
       "    <tr style=\"text-align: right;\">\n",
       "      <th></th>\n",
       "      <th>Adj Close</th>\n",
       "    </tr>\n",
       "    <tr>\n",
       "      <th>Date</th>\n",
       "      <th></th>\n",
       "    </tr>\n",
       "  </thead>\n",
       "  <tbody>\n",
       "    <tr>\n",
       "      <th>2012-08-12</th>\n",
       "      <td>26.517351</td>\n",
       "    </tr>\n",
       "    <tr>\n",
       "      <th>2012-08-19</th>\n",
       "      <td>27.114212</td>\n",
       "    </tr>\n",
       "    <tr>\n",
       "      <th>2012-08-26</th>\n",
       "      <td>26.815865</td>\n",
       "    </tr>\n",
       "    <tr>\n",
       "      <th>2012-09-02</th>\n",
       "      <td>27.044012</td>\n",
       "    </tr>\n",
       "    <tr>\n",
       "      <th>2012-09-09</th>\n",
       "      <td>27.158091</td>\n",
       "    </tr>\n",
       "  </tbody>\n",
       "</table>\n",
       "</div>"
      ],
      "text/plain": [
       "            Adj Close\n",
       "Date                 \n",
       "2012-08-12  26.517351\n",
       "2012-08-19  27.114212\n",
       "2012-08-26  26.815865\n",
       "2012-09-02  27.044012\n",
       "2012-09-09  27.158091"
      ]
     },
     "execution_count": 17,
     "metadata": {},
     "output_type": "execute_result"
    }
   ],
   "source": [
    "# Convert the daily data to weekly data\n",
    "MSFT = MSFT.resample(rule='W', how='last')\n",
    "MSFT.head()"
   ]
  },
  {
   "cell_type": "code",
   "execution_count": 18,
   "metadata": {},
   "outputs": [
    {
     "data": {
      "text/html": [
       "<div>\n",
       "<style scoped>\n",
       "    .dataframe tbody tr th:only-of-type {\n",
       "        vertical-align: middle;\n",
       "    }\n",
       "\n",
       "    .dataframe tbody tr th {\n",
       "        vertical-align: top;\n",
       "    }\n",
       "\n",
       "    .dataframe thead th {\n",
       "        text-align: right;\n",
       "    }\n",
       "</style>\n",
       "<table border=\"1\" class=\"dataframe\">\n",
       "  <thead>\n",
       "    <tr style=\"text-align: right;\">\n",
       "      <th></th>\n",
       "      <th>Adj Close</th>\n",
       "    </tr>\n",
       "    <tr>\n",
       "      <th>Date</th>\n",
       "      <th></th>\n",
       "    </tr>\n",
       "  </thead>\n",
       "  <tbody>\n",
       "    <tr>\n",
       "      <th>2012-08-12</th>\n",
       "      <td>NaN</td>\n",
       "    </tr>\n",
       "    <tr>\n",
       "      <th>2012-08-19</th>\n",
       "      <td>0.022508</td>\n",
       "    </tr>\n",
       "    <tr>\n",
       "      <th>2012-08-26</th>\n",
       "      <td>-0.011003</td>\n",
       "    </tr>\n",
       "    <tr>\n",
       "      <th>2012-09-02</th>\n",
       "      <td>0.008508</td>\n",
       "    </tr>\n",
       "    <tr>\n",
       "      <th>2012-09-09</th>\n",
       "      <td>0.004218</td>\n",
       "    </tr>\n",
       "  </tbody>\n",
       "</table>\n",
       "</div>"
      ],
      "text/plain": [
       "            Adj Close\n",
       "Date                 \n",
       "2012-08-12        NaN\n",
       "2012-08-19   0.022508\n",
       "2012-08-26  -0.011003\n",
       "2012-09-02   0.008508\n",
       "2012-09-09   0.004218"
      ]
     },
     "execution_count": 18,
     "metadata": {},
     "output_type": "execute_result"
    }
   ],
   "source": [
    "# Compute the percentage change of prices\n",
    "returns = MSFT.pct_change()\n",
    "returns.head()"
   ]
  },
  {
   "cell_type": "code",
   "execution_count": 19,
   "metadata": {},
   "outputs": [
    {
     "name": "stdout",
     "output_type": "stream",
     "text": [
      "The autocorrelation of weekly returns is -0.16\n"
     ]
    }
   ],
   "source": [
    "# Compute and print the autocorrelation of returns\n",
    "autocorrelation = returns[\"Adj Close\"].autocorr()\n",
    "print(\"The autocorrelation of weekly returns is %4.2f\" %(autocorrelation))"
   ]
  },
  {
   "cell_type": "markdown",
   "metadata": {},
   "source": [
    "* Since the autocorrelation of returns for MSFT is negative, we can conclude that the stock is 'mean reverting'."
   ]
  },
  {
   "cell_type": "markdown",
   "metadata": {},
   "source": [
    "### Are Interest Rates Autocorrelated?\n",
    "\n",
    "When you look at daily changes in interest rates, the autocorrelation is close to zero. However, if you resample the data and look at annual changes, the autocorrelation is negative. This implies that while short term changes in interest rates may be uncorrelated, long term changes in interest rates are negatively autocorrelated. A daily move up or down in interest rates is unlikely to tell you anything about interest rates tomorrow, but a move in interest rates over a year can tell you something about where interest rates are going over the next year. And this makes some economic sense: over long horizons, when interest rates go up, the economy tends to slow down, which consequently causes interest rates to fall, and vice versa.\n",
    "\n",
    "The DataFrame daily_rates contains daily data of 10-year interest rates from 1962 to 2017.\n",
    "\n",
    "- Create a new DataFrame, daily_diff, of changes in daily rates using the `.diff()` method.\n",
    "- Compute the autocorrelation of the column 'US10Y' in daily_diff using the `.autocorr()` method.\n",
    "- Use the `.resample()` method with arguments rule='A' to convert to annual frequency and how='last'.\n",
    "    - The argument how in `.resample()` has been deprecated.\n",
    "    - The new syntax `.resample().last()` also works.\n",
    "- Create a new DataFrame, yearly_diff of changes in annual rates and compute the autocorrelation, as above."
   ]
  },
  {
   "cell_type": "code",
   "execution_count": 20,
   "metadata": {},
   "outputs": [
    {
     "data": {
      "text/html": [
       "<div>\n",
       "<style scoped>\n",
       "    .dataframe tbody tr th:only-of-type {\n",
       "        vertical-align: middle;\n",
       "    }\n",
       "\n",
       "    .dataframe tbody tr th {\n",
       "        vertical-align: top;\n",
       "    }\n",
       "\n",
       "    .dataframe thead th {\n",
       "        text-align: right;\n",
       "    }\n",
       "</style>\n",
       "<table border=\"1\" class=\"dataframe\">\n",
       "  <thead>\n",
       "    <tr style=\"text-align: right;\">\n",
       "      <th></th>\n",
       "      <th>US10Y</th>\n",
       "    </tr>\n",
       "    <tr>\n",
       "      <th>DATE</th>\n",
       "      <th></th>\n",
       "    </tr>\n",
       "  </thead>\n",
       "  <tbody>\n",
       "    <tr>\n",
       "      <th>1962-01-02</th>\n",
       "      <td>4.06</td>\n",
       "    </tr>\n",
       "    <tr>\n",
       "      <th>1962-01-03</th>\n",
       "      <td>4.03</td>\n",
       "    </tr>\n",
       "    <tr>\n",
       "      <th>1962-01-04</th>\n",
       "      <td>3.99</td>\n",
       "    </tr>\n",
       "    <tr>\n",
       "      <th>1962-01-05</th>\n",
       "      <td>4.02</td>\n",
       "    </tr>\n",
       "    <tr>\n",
       "      <th>1962-01-08</th>\n",
       "      <td>4.03</td>\n",
       "    </tr>\n",
       "  </tbody>\n",
       "</table>\n",
       "</div>"
      ],
      "text/plain": [
       "            US10Y\n",
       "DATE             \n",
       "1962-01-02   4.06\n",
       "1962-01-03   4.03\n",
       "1962-01-04   3.99\n",
       "1962-01-05   4.02\n",
       "1962-01-08   4.03"
      ]
     },
     "execution_count": 20,
     "metadata": {},
     "output_type": "execute_result"
    }
   ],
   "source": [
    "daily_rates = pd.read_csv(\"Data/daily_rates.csv\", index_col=0, parse_dates=True)\n",
    "daily_rates.head()"
   ]
  },
  {
   "cell_type": "code",
   "execution_count": 21,
   "metadata": {},
   "outputs": [
    {
     "data": {
      "text/html": [
       "<div>\n",
       "<style scoped>\n",
       "    .dataframe tbody tr th:only-of-type {\n",
       "        vertical-align: middle;\n",
       "    }\n",
       "\n",
       "    .dataframe tbody tr th {\n",
       "        vertical-align: top;\n",
       "    }\n",
       "\n",
       "    .dataframe thead th {\n",
       "        text-align: right;\n",
       "    }\n",
       "</style>\n",
       "<table border=\"1\" class=\"dataframe\">\n",
       "  <thead>\n",
       "    <tr style=\"text-align: right;\">\n",
       "      <th></th>\n",
       "      <th>US10Y</th>\n",
       "    </tr>\n",
       "    <tr>\n",
       "      <th>DATE</th>\n",
       "      <th></th>\n",
       "    </tr>\n",
       "  </thead>\n",
       "  <tbody>\n",
       "    <tr>\n",
       "      <th>1962-01-02</th>\n",
       "      <td>NaN</td>\n",
       "    </tr>\n",
       "    <tr>\n",
       "      <th>1962-01-03</th>\n",
       "      <td>-0.03</td>\n",
       "    </tr>\n",
       "    <tr>\n",
       "      <th>1962-01-04</th>\n",
       "      <td>-0.04</td>\n",
       "    </tr>\n",
       "    <tr>\n",
       "      <th>1962-01-05</th>\n",
       "      <td>0.03</td>\n",
       "    </tr>\n",
       "    <tr>\n",
       "      <th>1962-01-08</th>\n",
       "      <td>0.01</td>\n",
       "    </tr>\n",
       "  </tbody>\n",
       "</table>\n",
       "</div>"
      ],
      "text/plain": [
       "            US10Y\n",
       "DATE             \n",
       "1962-01-02    NaN\n",
       "1962-01-03  -0.03\n",
       "1962-01-04  -0.04\n",
       "1962-01-05   0.03\n",
       "1962-01-08   0.01"
      ]
     },
     "execution_count": 21,
     "metadata": {},
     "output_type": "execute_result"
    }
   ],
   "source": [
    "# Compute the daily change in interest rates \n",
    "daily_diff = daily_rates.diff()\n",
    "daily_diff.head()"
   ]
  },
  {
   "cell_type": "code",
   "execution_count": 22,
   "metadata": {},
   "outputs": [
    {
     "name": "stdout",
     "output_type": "stream",
     "text": [
      "The autocorrelation of daily interest rate changes is 0.07\n"
     ]
    }
   ],
   "source": [
    "# Compute and print the autocorrelation of daily changes\n",
    "autocorrelation_daily = daily_diff[\"US10Y\"].autocorr()\n",
    "print(\"The autocorrelation of daily interest rate changes is %4.2f\" %(autocorrelation_daily))"
   ]
  },
  {
   "cell_type": "code",
   "execution_count": 23,
   "metadata": {},
   "outputs": [
    {
     "data": {
      "text/html": [
       "<div>\n",
       "<style scoped>\n",
       "    .dataframe tbody tr th:only-of-type {\n",
       "        vertical-align: middle;\n",
       "    }\n",
       "\n",
       "    .dataframe tbody tr th {\n",
       "        vertical-align: top;\n",
       "    }\n",
       "\n",
       "    .dataframe thead th {\n",
       "        text-align: right;\n",
       "    }\n",
       "</style>\n",
       "<table border=\"1\" class=\"dataframe\">\n",
       "  <thead>\n",
       "    <tr style=\"text-align: right;\">\n",
       "      <th></th>\n",
       "      <th>US10Y</th>\n",
       "    </tr>\n",
       "    <tr>\n",
       "      <th>DATE</th>\n",
       "      <th></th>\n",
       "    </tr>\n",
       "  </thead>\n",
       "  <tbody>\n",
       "    <tr>\n",
       "      <th>1962-12-31</th>\n",
       "      <td>3.85</td>\n",
       "    </tr>\n",
       "    <tr>\n",
       "      <th>1963-12-31</th>\n",
       "      <td>4.14</td>\n",
       "    </tr>\n",
       "    <tr>\n",
       "      <th>1964-12-31</th>\n",
       "      <td>4.21</td>\n",
       "    </tr>\n",
       "    <tr>\n",
       "      <th>1965-12-31</th>\n",
       "      <td>4.65</td>\n",
       "    </tr>\n",
       "    <tr>\n",
       "      <th>1966-12-31</th>\n",
       "      <td>4.64</td>\n",
       "    </tr>\n",
       "  </tbody>\n",
       "</table>\n",
       "</div>"
      ],
      "text/plain": [
       "            US10Y\n",
       "DATE             \n",
       "1962-12-31   3.85\n",
       "1963-12-31   4.14\n",
       "1964-12-31   4.21\n",
       "1965-12-31   4.65\n",
       "1966-12-31   4.64"
      ]
     },
     "execution_count": 23,
     "metadata": {},
     "output_type": "execute_result"
    }
   ],
   "source": [
    "# Convert the daily data to annual data\n",
    "yearly_rates = daily_rates.resample(rule='A').last()\n",
    "yearly_rates.head()"
   ]
  },
  {
   "cell_type": "code",
   "execution_count": 24,
   "metadata": {},
   "outputs": [
    {
     "data": {
      "text/html": [
       "<div>\n",
       "<style scoped>\n",
       "    .dataframe tbody tr th:only-of-type {\n",
       "        vertical-align: middle;\n",
       "    }\n",
       "\n",
       "    .dataframe tbody tr th {\n",
       "        vertical-align: top;\n",
       "    }\n",
       "\n",
       "    .dataframe thead th {\n",
       "        text-align: right;\n",
       "    }\n",
       "</style>\n",
       "<table border=\"1\" class=\"dataframe\">\n",
       "  <thead>\n",
       "    <tr style=\"text-align: right;\">\n",
       "      <th></th>\n",
       "      <th>US10Y</th>\n",
       "    </tr>\n",
       "    <tr>\n",
       "      <th>DATE</th>\n",
       "      <th></th>\n",
       "    </tr>\n",
       "  </thead>\n",
       "  <tbody>\n",
       "    <tr>\n",
       "      <th>1962-12-31</th>\n",
       "      <td>NaN</td>\n",
       "    </tr>\n",
       "    <tr>\n",
       "      <th>1963-12-31</th>\n",
       "      <td>0.29</td>\n",
       "    </tr>\n",
       "    <tr>\n",
       "      <th>1964-12-31</th>\n",
       "      <td>0.07</td>\n",
       "    </tr>\n",
       "    <tr>\n",
       "      <th>1965-12-31</th>\n",
       "      <td>0.44</td>\n",
       "    </tr>\n",
       "    <tr>\n",
       "      <th>1966-12-31</th>\n",
       "      <td>-0.01</td>\n",
       "    </tr>\n",
       "  </tbody>\n",
       "</table>\n",
       "</div>"
      ],
      "text/plain": [
       "            US10Y\n",
       "DATE             \n",
       "1962-12-31    NaN\n",
       "1963-12-31   0.29\n",
       "1964-12-31   0.07\n",
       "1965-12-31   0.44\n",
       "1966-12-31  -0.01"
      ]
     },
     "execution_count": 24,
     "metadata": {},
     "output_type": "execute_result"
    }
   ],
   "source": [
    "# Repeat above for annual data\n",
    "yearly_diff = yearly_rates.diff()\n",
    "yearly_diff.head()"
   ]
  },
  {
   "cell_type": "code",
   "execution_count": 25,
   "metadata": {},
   "outputs": [
    {
     "name": "stdout",
     "output_type": "stream",
     "text": [
      "The autocorrelation of annual interest rate changes is -0.22\n"
     ]
    }
   ],
   "source": [
    "autocorrelation_yearly = yearly_diff[\"US10Y\"].autocorr()\n",
    "print(\"The autocorrelation of annual interest rate changes is %4.2f\" %(autocorrelation_yearly))"
   ]
  },
  {
   "cell_type": "markdown",
   "metadata": {},
   "source": [
    "* Notice that the difference between daily autocorrelation and annual autocorrelation."
   ]
  },
  {
   "cell_type": "markdown",
   "metadata": {},
   "source": [
    "### Taxing Exercise: Compute the ACF\n",
    "\n",
    "Above, you computed autocorrelations with one lag. Often we are interested in seeing the autocorrelation over many lags. \n",
    "You will compute the array of autocorrelations for the H&R Block quarterly earnings from the DataFrame HRB. Then, plot the autocorrelation function using the plot_acf module. This plot shows what the autocorrelation function looks like for cyclical earnings data. The ACF at lag=0 is always one, of course. In the next exercise, you will learn about the confidence interval for the ACF, but for now, supress the confidence interval by setting alpha=1.\n",
    "\n",
    "- Import the acf module and plot_acf module from statsmodels.\n",
    "- Compute the array of autocorrelations of the quarterly earnings data in DataFrame HRB.\n",
    "- Plot the autocorrelation function of the quarterly earnings data in HRB, and pass the argument alpha=1 to supress the confidence interval."
   ]
  },
  {
   "cell_type": "code",
   "execution_count": 26,
   "metadata": {},
   "outputs": [
    {
     "data": {
      "text/html": [
       "<div>\n",
       "<style scoped>\n",
       "    .dataframe tbody tr th:only-of-type {\n",
       "        vertical-align: middle;\n",
       "    }\n",
       "\n",
       "    .dataframe tbody tr th {\n",
       "        vertical-align: top;\n",
       "    }\n",
       "\n",
       "    .dataframe thead th {\n",
       "        text-align: right;\n",
       "    }\n",
       "</style>\n",
       "<table border=\"1\" class=\"dataframe\">\n",
       "  <thead>\n",
       "    <tr style=\"text-align: right;\">\n",
       "      <th></th>\n",
       "      <th>Earnings</th>\n",
       "    </tr>\n",
       "    <tr>\n",
       "      <th>Quarter</th>\n",
       "      <th></th>\n",
       "    </tr>\n",
       "  </thead>\n",
       "  <tbody>\n",
       "    <tr>\n",
       "      <th>2007-01-01</th>\n",
       "      <td>-0.36</td>\n",
       "    </tr>\n",
       "    <tr>\n",
       "      <th>2007-04-01</th>\n",
       "      <td>-0.38</td>\n",
       "    </tr>\n",
       "    <tr>\n",
       "      <th>2007-07-01</th>\n",
       "      <td>0.07</td>\n",
       "    </tr>\n",
       "    <tr>\n",
       "      <th>2007-10-01</th>\n",
       "      <td>1.85</td>\n",
       "    </tr>\n",
       "    <tr>\n",
       "      <th>2008-01-01</th>\n",
       "      <td>-0.34</td>\n",
       "    </tr>\n",
       "  </tbody>\n",
       "</table>\n",
       "</div>"
      ],
      "text/plain": [
       "            Earnings\n",
       "Quarter             \n",
       "2007-01-01     -0.36\n",
       "2007-04-01     -0.38\n",
       "2007-07-01      0.07\n",
       "2007-10-01      1.85\n",
       "2008-01-01     -0.34"
      ]
     },
     "execution_count": 26,
     "metadata": {},
     "output_type": "execute_result"
    }
   ],
   "source": [
    "HRB = pd.read_csv(\"Data/HRB.csv\", index_col=0, parse_dates=True)\n",
    "HRB.head()"
   ]
  },
  {
   "cell_type": "code",
   "execution_count": 27,
   "metadata": {},
   "outputs": [],
   "source": [
    "# Import the acf module and the plot_acf module from statsmodels\n",
    "from statsmodels.tsa.stattools import acf\n",
    "from statsmodels.graphics.tsaplots import plot_acf"
   ]
  },
  {
   "cell_type": "code",
   "execution_count": 28,
   "metadata": {},
   "outputs": [
    {
     "name": "stdout",
     "output_type": "stream",
     "text": [
      "[ 1.         -0.22122696 -0.39856504 -0.26615093  0.83479804 -0.1901038\n",
      " -0.3475634  -0.23140368  0.71995993 -0.15661007 -0.29766783 -0.22097189\n",
      "  0.61656933 -0.15022869 -0.27922022 -0.22465946  0.5725259  -0.08758288\n",
      " -0.24075584 -0.20363054  0.4797058  -0.06091139 -0.20935484 -0.18303202\n",
      "  0.42481275 -0.03352559 -0.17471087 -0.16384328  0.34341079 -0.01734364\n",
      " -0.13820811 -0.12232172  0.28407164 -0.01927656 -0.11757974 -0.10386933\n",
      "  0.20156485 -0.0120634  -0.07509539 -0.0707104   0.10222029]\n"
     ]
    },
    {
     "name": "stderr",
     "output_type": "stream",
     "text": [
      "C:\\Anaconda3\\envs\\myenv\\lib\\site-packages\\statsmodels\\tsa\\stattools.py:572: FutureWarning: fft=True will become the default in a future version of statsmodels. To suppress this warning, explicitly set fft=False.\n",
      "  FutureWarning\n"
     ]
    }
   ],
   "source": [
    "# Compute the acf array of HRB\n",
    "acf_array = acf(HRB)\n",
    "print(acf_array)"
   ]
  },
  {
   "cell_type": "code",
   "execution_count": 29,
   "metadata": {},
   "outputs": [
    {
     "data": {
      "image/png": "[encoded data removed]",
      "text/plain": [
       "<Figure size 432x288 with 1 Axes>"
      ]
     },
     "metadata": {
      "needs_background": "light"
     },
     "output_type": "display_data"
    }
   ],
   "source": [
    "# Plot the acf function\n",
    "plot_acf(HRB, alpha=1)\n",
    "plt.show()"
   ]
  },
  {
   "cell_type": "markdown",
   "metadata": {},
   "source": [
    "### Are We Confident This Stock is Mean Reverting?\n",
    "\n",
    "Above, You saw that the autocorrelation of MSFT's weekly stock returns was -0.16. That autocorrelation seems large, but is it statistically significant? In other words, can you say that there is less than a 5% chance that we would observe such a large negative autocorrelation if the true autocorrelation were really zero? And are there any autocorrelations at other lags that are significantly different from zero?\n",
    "\n",
    "Even if the true autocorrelations were zero at all lags, in a finite sample of returns you won't see the estimate of the autocorrelations exactly zero. In fact, the standard deviation of the sample autocorrelation is 1/N‾‾√ where N is the number of observations, so if N=100, for example, the standard deviation of the ACF is 0.1, and since 95% of a normal curve is between +1.96 and -1.96 standard deviations from the mean, the 95% confidence interval is ±1.96/N‾‾√. This approximation only holds when the true autocorrelations are all zero.\n",
    "\n",
    "You will compute the actual and approximate confidence interval for the ACF, and compare it to the lag-one autocorrelation of -0.16 from the last chapter. \n",
    "\n",
    "- Recompute the autocorrelation of weekly returns in the Series 'Adj Close' in the returns DataFrame.\n",
    "- Find the number of observations in the returns DataFrame using the `len()` function.\n",
    "- Approximate the 95% confidence interval of the estimated autocorrelation. \n",
    "- Plot the autocorrelation function of returns using plot_acf that was imported from statsmodels. Set alpha=0.05 for the confidence intervals (that's the default) and lags=20."
   ]
  },
  {
   "cell_type": "code",
   "execution_count": 30,
   "metadata": {},
   "outputs": [
    {
     "data": {
      "text/html": [
       "<div>\n",
       "<style scoped>\n",
       "    .dataframe tbody tr th:only-of-type {\n",
       "        vertical-align: middle;\n",
       "    }\n",
       "\n",
       "    .dataframe tbody tr th {\n",
       "        vertical-align: top;\n",
       "    }\n",
       "\n",
       "    .dataframe thead th {\n",
       "        text-align: right;\n",
       "    }\n",
       "</style>\n",
       "<table border=\"1\" class=\"dataframe\">\n",
       "  <thead>\n",
       "    <tr style=\"text-align: right;\">\n",
       "      <th></th>\n",
       "      <th>Adj Close</th>\n",
       "    </tr>\n",
       "    <tr>\n",
       "      <th>Date</th>\n",
       "      <th></th>\n",
       "    </tr>\n",
       "  </thead>\n",
       "  <tbody>\n",
       "    <tr>\n",
       "      <th>2012-08-19</th>\n",
       "      <td>0.022508</td>\n",
       "    </tr>\n",
       "    <tr>\n",
       "      <th>2012-08-26</th>\n",
       "      <td>-0.011003</td>\n",
       "    </tr>\n",
       "    <tr>\n",
       "      <th>2012-09-02</th>\n",
       "      <td>0.008508</td>\n",
       "    </tr>\n",
       "    <tr>\n",
       "      <th>2012-09-09</th>\n",
       "      <td>0.004218</td>\n",
       "    </tr>\n",
       "    <tr>\n",
       "      <th>2012-09-16</th>\n",
       "      <td>0.008400</td>\n",
       "    </tr>\n",
       "  </tbody>\n",
       "</table>\n",
       "</div>"
      ],
      "text/plain": [
       "            Adj Close\n",
       "Date                 \n",
       "2012-08-19   0.022508\n",
       "2012-08-26  -0.011003\n",
       "2012-09-02   0.008508\n",
       "2012-09-09   0.004218\n",
       "2012-09-16   0.008400"
      ]
     },
     "execution_count": 30,
     "metadata": {},
     "output_type": "execute_result"
    }
   ],
   "source": [
    "returns = pd.read_csv(\"Data/returns.csv\", index_col=0, parse_dates=True)\n",
    "returns.head()"
   ]
  },
  {
   "cell_type": "code",
   "execution_count": 31,
   "metadata": {},
   "outputs": [
    {
     "name": "stdout",
     "output_type": "stream",
     "text": [
      "The autocorrelation of weekly MSFT returns is -0.16\n"
     ]
    }
   ],
   "source": [
    "# Import sqrt from math\n",
    "from math import sqrt\n",
    "\n",
    "# Compute and print the autocorrelation of MSFT weekly returns\n",
    "autocorrelation = returns['Adj Close'].autocorr()\n",
    "print(\"The autocorrelation of weekly MSFT returns is %4.2f\" %(autocorrelation))"
   ]
  },
  {
   "cell_type": "code",
   "execution_count": 32,
   "metadata": {},
   "outputs": [
    {
     "data": {
      "text/plain": [
       "260"
      ]
     },
     "execution_count": 32,
     "metadata": {},
     "output_type": "execute_result"
    }
   ],
   "source": [
    "# Find the number of observations by taking the length of the returns DataFrame\n",
    "nobs = len(returns)\n",
    "nobs"
   ]
  },
  {
   "cell_type": "code",
   "execution_count": 33,
   "metadata": {},
   "outputs": [
    {
     "name": "stdout",
     "output_type": "stream",
     "text": [
      "The approximate confidence interval is +/- 0.12\n"
     ]
    }
   ],
   "source": [
    "# Compute the approximate confidence interval\n",
    "conf = 1.96/sqrt(nobs)\n",
    "print(\"The approximate confidence interval is +/- %4.2f\" %(conf))"
   ]
  },
  {
   "cell_type": "code",
   "execution_count": 34,
   "metadata": {},
   "outputs": [
    {
     "data": {
      "image/png": "[encoded data removed]",
      "text/plain": [
       "<Figure size 432x288 with 1 Axes>"
      ]
     },
     "metadata": {
      "needs_background": "light"
     },
     "output_type": "display_data"
    }
   ],
   "source": [
    "# Plot the autocorrelation function with 95% confidence intervals and 20 lags using plot_acf\n",
    "plot_acf(returns, alpha=0.05, lags=20)\n",
    "plt.show()"
   ]
  },
  {
   "cell_type": "markdown",
   "metadata": {},
   "source": [
    "* Notice that the autocorrelation with lag 1 is significantly negative, but none of the other lags are significantly different from zero."
   ]
  },
  {
   "cell_type": "markdown",
   "metadata": {},
   "source": [
    "## White Noise\n",
    "### Can't Forecast White Noise\n",
    "A white noise time series is simply a sequence of uncorrelated random variables that are identically distributed. Stock returns are often modelled as white noise. Unfortunately, for white noise, we cannot forecast future observations based on the past - autocorrelations at all lags are zero.\n",
    "You will generate a white noise series and plot the autocorrelation function to show that it is zero for all lags. You can use `np.random.normal()` to generate random returns. For a Gaussian white noise process, the mean and standard deviation describe the entire process.\n",
    "Plot this white noise series to see what it looks like, and then plot the autocorrelation function.\n",
    "\n",
    "- Generate 1000 random normal returns using `np.random.normal()` with mean 2% (0.02) and standard deviation 5% (0.05), where the argument for the mean is loc and the argument for the standard deviation is scale.\n",
    "- Plot the time series.\n",
    "- Verify the mean and standard deviation of returns using `np.mean()` and `np.std()`.\n",
    "- Plot the autocorrelation function using `plot_acf` with lags=20.\n"
   ]
  },
  {
   "cell_type": "code",
   "execution_count": 35,
   "metadata": {},
   "outputs": [
    {
     "name": "stdout",
     "output_type": "stream",
     "text": [
      "The mean is 0.021 and the standard deviation is 0.051\n"
     ]
    }
   ],
   "source": [
    "import numpy as np\n",
    "\n",
    "# Simulate wite noise returns\n",
    "returns = np.random.normal(loc=0.02, scale=0.05, size=1000)\n",
    "\n",
    "# Print out the mean and standard deviation of returns\n",
    "mean = np.mean(returns)\n",
    "std = np.std(returns)\n",
    "print(\"The mean is %5.3f and the standard deviation is %5.3f\" %(mean,std))"
   ]
  },
  {
   "cell_type": "code",
   "execution_count": 36,
   "metadata": {},
   "outputs": [
    {
     "data": {
      "image/png": "[encoded data removed]",
      "text/plain": [
       "<Figure size 432x288 with 1 Axes>"
      ]
     },
     "metadata": {
      "needs_background": "light"
     },
     "output_type": "display_data"
    }
   ],
   "source": [
    "# Plot returns series\n",
    "plt.plot(returns)\n",
    "plt.show()"
   ]
  },
  {
   "cell_type": "code",
   "execution_count": 37,
   "metadata": {},
   "outputs": [
    {
     "data": {
      "image/png": "[encoded data removed]",
      "text/plain": [
       "<Figure size 432x288 with 1 Axes>"
      ]
     },
     "metadata": {
      "needs_background": "light"
     },
     "output_type": "display_data"
    }
   ],
   "source": [
    "# Plot autocorrelation function of white noise returns\n",
    "plot_acf(returns, lags=20)\n",
    "plt.show()"
   ]
  },
  {
   "cell_type": "markdown",
   "metadata": {},
   "source": [
    "* Notice that for a white noise time series, all the autocorrelations are close to zero, so the past will not help you forecast the future."
   ]
  },
  {
   "cell_type": "markdown",
   "metadata": {},
   "source": [
    "### Generate a Random Walk\n",
    "\n",
    "Whereas stock returns are often modelled as white noise, stock prices closely follow a random walk. In other words, today's price is yesterday's price plus some random noise.\n",
    "You will simulate the price of a stock over time that has a starting price of 100 and every day goes up or down by a random amount. Then, plot the simulated stock price. \n",
    "\n",
    "- Generate 500 random normal \"steps\" with mean=0 and standard deviation=1 using `np.random.normal()`, where the argument for the mean is loc and the argument for the standard deviation is scale.\n",
    "- Simulate stock prices P:\n",
    "    - Cumulate the random steps using the numpy `.cumsum()` method\n",
    "    - Add 100 to P to get a starting stock price of 100.\n",
    "- Plot the simulated random walk"
   ]
  },
  {
   "cell_type": "code",
   "execution_count": 38,
   "metadata": {},
   "outputs": [
    {
     "data": {
      "text/plain": [
       "array([ 3.54933717e-01,  8.08857435e-01, -1.30980052e+00,  5.86492798e-01,\n",
       "       -3.12422411e-02,  1.88350359e+00,  8.48096522e-01, -1.41618865e+00,\n",
       "        1.86403323e-01,  1.37962536e+00,  7.46881598e-02,  2.55398500e-01,\n",
       "        4.72737538e-01,  4.47038173e-01,  4.18286058e-01,  1.36758845e+00,\n",
       "       -7.67074582e-01, -8.10152904e-01,  5.31059844e-01,  2.56180869e-01,\n",
       "        6.58865198e-01, -1.79994422e+00,  8.58239253e-01, -1.61293301e+00,\n",
       "        1.05194219e+00, -1.13779360e-02,  1.65805850e+00, -1.87603332e+00,\n",
       "       -1.30943788e+00,  6.57266637e-01,  4.17775737e-01, -6.28202414e-01,\n",
       "       -8.48453386e-02,  5.84888164e-01, -1.61265540e+00, -2.95309644e-01,\n",
       "       -3.81921649e-01,  1.18507979e+00,  4.28312074e-01,  4.82452234e-01,\n",
       "        1.10392118e+00, -8.96131245e-01,  8.14065089e-01,  1.00556627e+00,\n",
       "       -6.28358362e-01,  7.17131237e-01, -1.98960639e-01, -2.18883561e-01,\n",
       "        5.40335226e-01, -1.21925757e+00,  6.53157401e-01, -8.61524977e-01,\n",
       "       -6.92104708e-01,  3.61229424e-01,  7.38063606e-01,  4.03342425e-01,\n",
       "       -4.62820386e-02, -5.31073420e-01,  8.75898298e-01, -7.73331804e-01,\n",
       "       -1.93977454e+00, -1.43798734e+00,  3.44631263e-01, -5.80574844e-01,\n",
       "        8.06807986e-01,  6.07111814e-01,  1.18373419e-01, -5.41698331e-01,\n",
       "        1.67121055e+00,  4.04598499e-01,  9.21081021e-01,  6.24345459e-01,\n",
       "       -6.54547645e-01,  5.55994422e-01, -3.73344812e-02,  8.34057785e-01,\n",
       "        2.14507952e+00, -2.75864925e-01, -9.21976144e-01, -3.11424348e-01,\n",
       "       -6.57308901e-01,  8.59579039e-01, -6.33299105e-01,  8.63026101e-01,\n",
       "       -1.61703650e+00,  1.38677127e+00, -1.57295647e-01, -3.48309277e-01,\n",
       "       -7.56081083e-01,  8.72350266e-01,  3.94473490e-01,  1.58471039e-01,\n",
       "        7.70695956e-01, -1.74505370e-02,  2.23285672e+00, -8.40936784e-01,\n",
       "        1.11697467e-01,  2.08687029e+00,  1.80441096e+00, -1.43344719e+00,\n",
       "        1.84467410e+00,  3.21734670e-01, -4.00158151e-01, -2.68099920e-01,\n",
       "        9.39374642e-01, -5.25630008e-01, -9.39862123e-01, -1.80682780e-01,\n",
       "       -8.49427092e-01, -1.04875057e+00, -2.35452808e+00,  1.96088319e-01,\n",
       "        1.77568050e+00, -1.27305590e-02,  6.24642522e-02,  8.81175644e-02,\n",
       "       -7.54963825e-01,  7.22844754e-01,  3.45683406e-01,  5.46185938e-01,\n",
       "        2.76773561e-01, -1.06112412e+00,  1.36264290e-01,  6.04636991e-01,\n",
       "       -4.49125645e-01,  1.18759465e-01,  6.49935080e-01,  3.06700502e-01,\n",
       "       -8.97767326e-02,  1.36278731e+00, -2.64705084e-01, -7.17390500e-01,\n",
       "       -8.06184353e-02, -1.15314295e+00,  1.76355696e+00, -6.58936371e-01,\n",
       "       -2.24485879e-01, -1.47379614e+00, -5.53977324e-01,  1.08016575e+00,\n",
       "       -6.13584637e-01,  1.63364408e-01, -8.24377659e-01,  4.18207565e-01,\n",
       "        4.86290610e-02, -1.02618655e+00,  3.42761140e-02, -6.07965904e-01,\n",
       "        1.05661514e+00, -2.22321847e+00,  6.40726361e-01, -8.65260989e-01,\n",
       "        1.76823508e+00, -1.56901749e+00,  1.24299775e+00, -8.17507360e-01,\n",
       "       -2.43714161e-02, -1.02597426e+00,  2.58725239e-01,  3.84532058e-01,\n",
       "       -5.31338228e-01,  1.53783288e+00,  4.46132997e-02,  2.02494195e+00,\n",
       "        4.89967195e-01,  1.13168332e+00,  5.13811194e-01,  1.85845688e+00,\n",
       "       -1.07346030e-02,  1.04227873e+00, -1.32368141e+00,  3.51097791e-01,\n",
       "        1.43949232e+00,  2.99952594e-02, -1.31186548e+00,  1.85091973e-01,\n",
       "       -1.09107723e-01,  3.91324027e-02,  1.77345814e+00,  2.88260043e+00,\n",
       "       -2.21483112e+00, -1.51038738e+00, -5.09939914e-01,  9.76753213e-01,\n",
       "        7.04884518e-02,  6.95269743e-01,  1.34863459e+00, -1.94135264e+00,\n",
       "        1.05004735e+00, -1.03846802e+00, -2.20564867e-02, -3.55044142e-01,\n",
       "       -4.09136141e-01, -8.48676293e-01, -9.30647994e-02, -2.50747885e+00,\n",
       "       -1.43386498e-01, -3.87851011e-01, -1.35825493e+00,  2.67775403e-01,\n",
       "       -9.29849441e-01, -1.30819814e+00,  4.19735364e-02, -6.08564237e-01,\n",
       "        3.83967829e-01,  2.14183607e-01, -8.68789129e-01, -1.43284275e+00,\n",
       "        4.94904722e-01,  8.34763621e-01, -6.37430199e-01, -4.76690649e-01,\n",
       "       -1.37442097e+00, -5.18276906e-01,  1.21837476e+00, -9.33854985e-01,\n",
       "       -1.28749560e+00,  1.36963848e+00,  6.50064130e-01,  8.39411213e-01,\n",
       "        4.84926775e-01,  7.10138649e-01, -4.13951598e-01,  1.41745665e+00,\n",
       "       -7.19337210e-01,  3.38607693e-01, -1.64273614e+00,  1.45414277e+00,\n",
       "        1.06228368e-01, -9.97541445e-01, -2.98878693e-01,  1.96012517e-01,\n",
       "        5.43664133e-01, -1.38630805e+00, -2.48142256e-01,  9.38098371e-01,\n",
       "       -2.22713332e+00, -3.84653587e-01,  1.31687065e+00, -2.06516673e+00,\n",
       "        3.71663062e-01, -2.46682427e-01, -1.71122097e+00,  3.15247404e-01,\n",
       "        1.50256402e-01,  4.54955573e-01,  2.67962510e+00,  1.31887019e+00,\n",
       "        9.28536034e-01,  6.54810207e-01,  6.61804276e-01,  1.82478603e-01,\n",
       "        7.94517392e-02,  2.79573410e-01, -2.79912584e-02, -1.36159814e+00,\n",
       "        3.56518335e-01, -7.68689092e-02,  4.64594400e-01,  9.42497226e-02,\n",
       "        4.37836480e-01, -9.51943856e-01, -2.71352903e+00, -6.31687875e-01,\n",
       "       -8.49916829e-01, -1.58965357e+00, -2.88867269e-01, -9.29762652e-01,\n",
       "        1.11742197e+00,  7.65067422e-01, -1.48758653e+00,  2.37312624e-01,\n",
       "       -2.72418535e-01, -6.20843404e-01,  6.93754131e-01, -2.83063861e+00,\n",
       "       -1.57904312e+00, -3.54179556e-01,  3.13237677e-01,  3.18935262e-01,\n",
       "       -1.50445862e+00, -3.92107887e-01, -2.47268977e-01, -3.05090111e-01,\n",
       "        3.40627514e-01,  1.33501304e+00, -7.88048010e-01, -6.28048905e-01,\n",
       "        9.00726729e-01, -1.84929897e-01, -3.07811188e-01, -8.40833456e-01,\n",
       "        3.42832593e-01,  9.01460012e-01, -2.85293437e-01, -1.47189687e+00,\n",
       "        5.21759343e-02,  7.78395316e-01,  4.21018374e-01,  4.01216231e-01,\n",
       "       -6.97975658e-01,  2.52391711e-02,  3.62265215e-01,  9.85287618e-01,\n",
       "       -1.28821469e-01, -9.75592107e-01,  2.81341289e-01, -8.69276836e-01,\n",
       "        3.13266761e-01, -1.48752583e+00,  4.32345853e-01, -1.44675112e-01,\n",
       "        9.60676050e-01,  1.19512087e+00, -1.76606287e+00,  1.20283616e+00,\n",
       "        1.84206849e+00, -2.22890246e-01,  1.02247713e-01,  7.33895598e-01,\n",
       "        9.65081038e-01, -5.13130035e-01,  1.23422484e+00, -1.44087026e+00,\n",
       "       -1.07095057e+00, -4.27993110e-01,  1.98796857e+00,  1.86853188e+00,\n",
       "       -1.59589267e-01, -3.18841716e-01, -1.01881219e+00, -1.31636033e+00,\n",
       "        2.77668867e-01, -3.60918407e-01,  1.21354590e+00, -9.47968993e-01,\n",
       "       -3.32517594e-02,  1.52213922e+00, -6.27479033e-01,  8.79837736e-01,\n",
       "        7.40458040e-01,  1.75345798e+00,  8.02385154e-01, -1.95418611e+00,\n",
       "        7.50168254e-01,  9.25716655e-01, -1.67792941e+00,  1.46156611e+00,\n",
       "       -5.76210271e-01, -9.46239490e-01,  1.72114181e+00, -8.69526333e-01,\n",
       "        8.59252517e-01,  1.53005025e+00, -3.54322502e-01, -9.98604144e-01,\n",
       "       -2.18237604e+00, -6.26652569e-01,  1.22359198e+00, -1.15147215e-01,\n",
       "        7.74998611e-01,  1.09636768e-01,  7.98963667e-01,  9.31138959e-01,\n",
       "        7.00743771e-02,  8.13468872e-01, -1.12051412e+00, -1.02391428e-01,\n",
       "       -5.80117246e-01,  1.75291125e+00,  1.02607568e+00,  9.68617524e-01,\n",
       "        1.34147185e+00,  8.06502077e-01,  5.90180286e-01, -1.32478829e+00,\n",
       "       -1.32165444e+00,  1.21201906e-01,  5.53690506e-01, -1.06090166e+00,\n",
       "       -1.87051077e-01,  1.51686202e+00, -5.86703418e-01,  1.05813599e-01,\n",
       "        9.04205723e-02,  1.18101375e+00,  3.69805455e-01, -1.30758369e+00,\n",
       "       -5.59007128e-01, -9.61288636e-01, -1.23739802e-01, -4.91518333e-01,\n",
       "        7.51008599e-01, -1.30100242e+00, -6.65304708e-01,  1.15398277e+00,\n",
       "       -9.37899996e-01, -1.42042971e-01, -6.79104314e-01,  6.28383836e-01,\n",
       "       -8.99799877e-03, -1.30541230e+00,  1.25278457e-01,  5.78272776e-01,\n",
       "        7.56856108e-01,  1.72774453e+00, -8.13844898e-01,  7.41139902e-01,\n",
       "        9.75893045e-01,  3.88194732e-01, -4.37214210e-01, -2.09709452e+00,\n",
       "        9.79212866e-02, -1.04332760e+00, -2.31528712e-01, -1.81218455e-01,\n",
       "        2.65392595e+00,  4.05785202e-01,  2.57831194e-01,  5.64164770e-02,\n",
       "        1.46220170e-01,  4.36185175e-01, -1.33895946e-01,  6.59837506e-02,\n",
       "       -8.08422695e-01,  1.82827619e+00,  1.04132665e+00, -5.76113940e-01,\n",
       "       -3.02174216e-01,  1.41814675e+00, -1.12088499e-01, -1.24278624e-01,\n",
       "        2.69309693e-01,  1.51824962e-01,  1.55987334e-01, -9.46681845e-01,\n",
       "        1.40480424e+00,  3.30565960e-01,  6.09696082e-01, -2.34081405e-01,\n",
       "       -1.22416267e+00,  3.46181420e-01, -1.15031720e+00,  3.57600709e-01,\n",
       "       -5.69478821e-01,  7.18765892e-01, -2.96710255e-01, -2.98965124e-01,\n",
       "        1.26058144e-02, -2.80073603e-01,  6.18373086e-02, -7.41401094e-01,\n",
       "        4.47248266e-01, -1.02840404e-01,  4.83828262e-01, -1.03380355e+00,\n",
       "        6.39037437e-01,  2.82051039e-01,  1.37718545e-01, -1.33495179e-01,\n",
       "       -1.32656628e+00,  1.73831803e-03, -3.28941204e-01,  6.07285032e-01,\n",
       "        3.96503920e-01, -1.64260110e+00,  1.02929553e+00,  9.64247239e-01,\n",
       "        8.04109814e-01, -1.38343933e+00,  7.52380448e-01,  2.31907093e+00,\n",
       "       -1.33697611e-01, -8.64779064e-01,  8.79332101e-01, -1.52048166e+00,\n",
       "       -3.08887079e-01, -5.62472628e-01,  8.82996658e-01,  6.54634770e-01,\n",
       "        1.11177105e+00, -5.61350475e-01, -1.02336662e+00,  2.54464714e-02,\n",
       "        1.39542345e+00,  4.49283609e-02,  2.16236259e+00,  3.07444508e-01,\n",
       "        4.70222332e-02,  5.18443961e-01, -7.32470099e-01,  8.20749061e-01,\n",
       "        6.05115208e-01, -7.78080488e-01,  9.60504306e-01,  4.55588991e-01,\n",
       "        6.12145509e-02, -7.79835098e-01,  3.60311131e-02,  1.31398565e-02])"
      ]
     },
     "execution_count": 38,
     "metadata": {},
     "output_type": "execute_result"
    }
   ],
   "source": [
    "import numpy as np\n",
    "# Generate 500 random steps with mean=0 and standard deviation=1\n",
    "steps = np.random.normal(loc=0, scale=1, size=500)\n",
    "steps"
   ]
  },
  {
   "cell_type": "code",
   "execution_count": 39,
   "metadata": {},
   "outputs": [
    {
     "data": {
      "text/plain": [
       "array([100.        , 100.80885743,  99.49905692, 100.08554972,\n",
       "       100.05430748, 101.93781106, 102.78590758, 101.36971893,\n",
       "       101.55612225, 102.93574762, 103.01043578, 103.26583428,\n",
       "       103.73857181, 104.18560999, 104.60389605, 105.97148449,\n",
       "       105.20440991, 104.39425701, 104.92531685, 105.18149772,\n",
       "       105.84036292, 104.0404187 , 104.89865795, 103.28572494,\n",
       "       104.33766713, 104.32628919, 105.98434769, 104.10831438,\n",
       "       102.79887649, 103.45614313, 103.87391887, 103.24571645,\n",
       "       103.16087111, 103.74575928, 102.13310388, 101.83779423,\n",
       "       101.45587258, 102.64095237, 103.06926444, 103.55171668,\n",
       "       104.65563786, 103.75950661, 104.5735717 , 105.57913798,\n",
       "       104.95077961, 105.66791085, 105.46895021, 105.25006665,\n",
       "       105.79040188, 104.57114431, 105.22430171, 104.36277674,\n",
       "       103.67067203, 104.03190145, 104.76996506, 105.17330748,\n",
       "       105.12702544, 104.59595202, 105.47185032, 104.69851852,\n",
       "       102.75874398, 101.32075663, 101.6653879 , 101.08481305,\n",
       "       101.89162104, 102.49873285, 102.61710627, 102.07540794,\n",
       "       103.74661849, 104.15121698, 105.07229801, 105.69664346,\n",
       "       105.04209582, 105.59809024, 105.56075576, 106.39481355,\n",
       "       108.53989307, 108.26402814, 107.342052  , 107.03062765,\n",
       "       106.37331875, 107.23289779, 106.59959868, 107.46262478,\n",
       "       105.84558828, 107.23235955, 107.07506391, 106.72675463,\n",
       "       105.97067355, 106.84302381, 107.2374973 , 107.39596834,\n",
       "       108.1666643 , 108.14921376, 110.38207048, 109.5411337 ,\n",
       "       109.65283117, 111.73970145, 113.54411241, 112.11066522,\n",
       "       113.95533932, 114.27707399, 113.87691584, 113.60881592,\n",
       "       114.54819056, 114.02256056, 113.08269843, 112.90201565,\n",
       "       112.05258856, 111.00383799, 108.64930991, 108.84539823,\n",
       "       110.62107873, 110.60834817, 110.67081242, 110.75892999,\n",
       "       110.00396616, 110.72681091, 111.07249432, 111.61868026,\n",
       "       111.89545382, 110.8343297 , 110.97059399, 111.57523098,\n",
       "       111.12610533, 111.2448648 , 111.89479988, 112.20150038,\n",
       "       112.11172365, 113.47451096, 113.20980588, 112.49241538,\n",
       "       112.41179694, 111.25865399, 113.02221095, 112.36327457,\n",
       "       112.13878869, 110.66499256, 110.11101523, 111.19118098,\n",
       "       110.57759634, 110.74096075, 109.91658309, 110.33479065,\n",
       "       110.38341971, 109.35723317, 109.39150928, 108.78354338,\n",
       "       109.84015852, 107.61694005, 108.25766641, 107.39240543,\n",
       "       109.16064051, 107.59162302, 108.83462076, 108.0171134 ,\n",
       "       107.99274199, 106.96676772, 107.22549296, 107.61002502,\n",
       "       107.07868679, 108.61651968, 108.66113298, 110.68607493,\n",
       "       111.17604212, 112.30772544, 112.82153664, 114.67999352,\n",
       "       114.66925891, 115.71153764, 114.38785623, 114.73895402,\n",
       "       116.17844634, 116.2084416 , 114.89657612, 115.08166809,\n",
       "       114.97256037, 115.01169277, 116.78515091, 119.66775134,\n",
       "       117.45292022, 115.94253285, 115.43259293, 116.40934615,\n",
       "       116.4798346 , 117.17510434, 118.52373893, 116.58238629,\n",
       "       117.63243364, 116.59396562, 116.57190913, 116.21686499,\n",
       "       115.80772885, 114.95905256, 114.86598776, 112.35850891,\n",
       "       112.21512241, 111.8272714 , 110.46901647, 110.73679188,\n",
       "       109.80694243, 108.49874429, 108.54071783, 107.93215359,\n",
       "       108.31612142, 108.53030503, 107.6615159 , 106.22867315,\n",
       "       106.72357787, 107.5583415 , 106.9209113 , 106.44422065,\n",
       "       105.06979967, 104.55152277, 105.76989752, 104.83604254,\n",
       "       103.54854694, 104.91818542, 105.56824955, 106.40766076,\n",
       "       106.89258753, 107.60272618, 107.18877458, 108.60623124,\n",
       "       107.88689403, 108.22550172, 106.58276558, 108.03690835,\n",
       "       108.14313672, 107.14559527, 106.84671658, 107.0427291 ,\n",
       "       107.58639323, 106.20008519, 105.95194293, 106.8900413 ,\n",
       "       104.66290798, 104.2782544 , 105.59512504, 103.52995831,\n",
       "       103.90162137, 103.65493895, 101.94371798, 102.25896538,\n",
       "       102.40922179, 102.86417736, 105.54380246, 106.86267265,\n",
       "       107.79120868, 108.44601889, 109.10782317, 109.29030177,\n",
       "       109.36975351, 109.64932692, 109.62133566, 108.25973752,\n",
       "       108.61625585, 108.53938694, 109.00398134, 109.09823106,\n",
       "       109.53606754, 108.58412369, 105.87059466, 105.23890678,\n",
       "       104.38898995, 102.79933638, 102.51046912, 101.58070646,\n",
       "       102.69812843, 103.46319585, 101.97560932, 102.21292194,\n",
       "       101.94050341, 101.31966   , 102.01341414,  99.18277553,\n",
       "        97.6037324 ,  97.24955285,  97.56279053,  97.88172579,\n",
       "        96.37726717,  95.98515928,  95.7378903 ,  95.43280019,\n",
       "        95.7734277 ,  97.10844075,  96.32039274,  95.69234383,\n",
       "        96.59307056,  96.40814066,  96.10032948,  95.25949602,\n",
       "        95.60232861,  96.50378863,  96.21849519,  94.74659832,\n",
       "        94.79877425,  95.57716957,  95.99818794,  96.39940417,\n",
       "        95.70142851,  95.72666768,  96.0889329 ,  97.07422052,\n",
       "        96.94539905,  95.96980694,  96.25114823,  95.38187139,\n",
       "        95.69513816,  94.20761233,  94.63995818,  94.49528307,\n",
       "        95.45595912,  96.65107999,  94.88501712,  96.08785328,\n",
       "        97.92992177,  97.70703152,  97.80927924,  98.54317483,\n",
       "        99.50825587,  98.99512584, 100.22935068,  98.78848041,\n",
       "        97.71752984,  97.28953673,  99.2775053 , 101.14603718,\n",
       "       100.98644792, 100.6676062 ,  99.64879401,  98.33243368,\n",
       "        98.61010254,  98.24918414,  99.46273004,  98.51476104,\n",
       "        98.48150929, 100.0036485 ,  99.37616947, 100.2560072 ,\n",
       "       100.99646524, 102.74992322, 103.55230838, 101.59812227,\n",
       "       102.34829052, 103.27400718, 101.59607777, 103.05764388,\n",
       "       102.48143361, 101.53519412, 103.25633593, 102.3868096 ,\n",
       "       103.24606212, 104.77611237, 104.42178987, 103.42318572,\n",
       "       101.24080968, 100.61415711, 101.83774909, 101.72260187,\n",
       "       102.49760048, 102.60723725, 103.40620092, 104.33733988,\n",
       "       104.40741425, 105.22088313, 104.100369  , 103.99797757,\n",
       "       103.41786033, 105.17077158, 106.19684726, 107.16546478,\n",
       "       108.50693663, 109.31343871, 109.903619  , 108.57883071,\n",
       "       107.25717627, 107.37837818, 107.93206868, 106.87116702,\n",
       "       106.68411595, 108.20097796, 107.61427455, 107.72008814,\n",
       "       107.81050872, 108.99152247, 109.36132792, 108.05374423,\n",
       "       107.4947371 , 106.53344846, 106.40970866, 105.91819033,\n",
       "       106.66919893, 105.3681965 , 104.70289179, 105.85687456,\n",
       "       104.91897456, 104.77693159, 104.09782728, 104.72621111,\n",
       "       104.71721311, 103.41180081, 103.53707927, 104.11535204,\n",
       "       104.87220815, 106.59995268, 105.78610778, 106.52724768,\n",
       "       107.50314073, 107.89133546, 107.45412125, 105.35702673,\n",
       "       105.45494801, 104.41162042, 104.1800917 , 103.99887325,\n",
       "       106.6527992 , 107.0585844 , 107.31641559, 107.37283207,\n",
       "       107.51905224, 107.95523742, 107.82134147, 107.88732522,\n",
       "       107.07890253, 108.90717872, 109.94850537, 109.37239143,\n",
       "       109.07021722, 110.48836396, 110.37627547, 110.25199684,\n",
       "       110.52130653, 110.6731315 , 110.82911883, 109.88243698,\n",
       "       111.28724123, 111.61780719, 112.22750327, 111.99342186,\n",
       "       110.7692592 , 111.11544062, 109.96512341, 110.32272412,\n",
       "       109.7532453 , 110.47201119, 110.17530094, 109.87633581,\n",
       "       109.88894163, 109.60886803, 109.67070533, 108.92930424,\n",
       "       109.37655251, 109.2737121 , 109.75754036, 108.72373682,\n",
       "       109.36277425, 109.64482529, 109.78254384, 109.64904866,\n",
       "       108.32248237, 108.32422069, 107.99527949, 108.60256452,\n",
       "       108.99906844, 107.35646734, 108.38576287, 109.35001011,\n",
       "       110.15411993, 108.7706806 , 109.52306105, 111.84213198,\n",
       "       111.70843437, 110.8436553 , 111.7229874 , 110.20250574,\n",
       "       109.89361866, 109.33114604, 110.21414269, 110.86877746,\n",
       "       111.98054851, 111.41919804, 110.39583142, 110.42127789,\n",
       "       111.81670134, 111.8616297 , 114.02399229, 114.3314368 ,\n",
       "       114.37845903, 114.89690299, 114.16443289, 114.98518196,\n",
       "       115.59029716, 114.81221667, 115.77272098, 116.22830997,\n",
       "       116.28952452, 115.50968942, 115.54572054, 115.55886039])"
      ]
     },
     "execution_count": 39,
     "metadata": {},
     "output_type": "execute_result"
    }
   ],
   "source": [
    "# Set first element to 0 so that the first price will be the starting stock price\n",
    "steps[0]=0\n",
    "\n",
    "# Simulate stock prices, P with a starting price of 100\n",
    "P = 100 + np.cumsum(steps)\n",
    "P"
   ]
  },
  {
   "cell_type": "code",
   "execution_count": 40,
   "metadata": {},
   "outputs": [
    {
     "data": {
      "image/png": "[encoded data removed]",
      "text/plain": [
       "<Figure size 432x288 with 1 Axes>"
      ]
     },
     "metadata": {
      "needs_background": "light"
     },
     "output_type": "display_data"
    }
   ],
   "source": [
    "# Plot the simulated stock prices\n",
    "plt.plot(P)\n",
    "plt.title(\"Simulated Random Walk\")\n",
    "plt.show()"
   ]
  },
  {
   "cell_type": "markdown",
   "metadata": {},
   "source": [
    "### Get the Drift\n",
    "\n",
    "In the last exercise, you simulated stock prices that follow a random walk. You will extend this in two ways in this exercise.\n",
    "You will look at a random walk with a drift. Many time series, like stock prices, are random walks but tend to drift up over time.\n",
    "In the last exercise, the noise in the random walk was additive: random, normal changes in price were added to the last price. However, when adding noise, you could theoretically get negative prices. Now you will make the noise multiplicative: you will add one to the random, normal changes to get a total return, and multiply that by the last price.\n",
    "\n",
    "\n",
    "- Generate 500 random normal multiplicative \"steps\" with mean 0.1% and standard deviation 1% using `np.random.normal()`, which are now returns, and add one for total return.\n",
    "- Simulate stock prices P:\n",
    "    - Cumulate the product of the steps using the `numpy.cumprod()` method.\n",
    "    - Multiply the cumulative product of total returns by 100 to get a starting value of 100.\n",
    "- Plot the simulated random walk with drift."
   ]
  },
  {
   "cell_type": "code",
   "execution_count": 41,
   "metadata": {},
   "outputs": [
    {
     "data": {
      "text/plain": [
       "array([0.99818383, 1.0042027 , 1.01384755, 0.9845508 , 0.99391185,\n",
       "       1.01054754, 1.01263045, 1.0169212 , 1.0063673 , 0.99903449,\n",
       "       1.01078514, 1.0047662 , 1.0130808 , 1.00634948, 0.99163285,\n",
       "       1.00215707, 0.99659832, 0.99661968, 0.99424137, 1.00391119,\n",
       "       1.0058911 , 0.99851414, 1.01316931, 0.99710907, 0.99457669,\n",
       "       1.00133926, 0.97786166, 1.00687608, 1.00923735, 0.97514203,\n",
       "       0.99605229, 1.01155034, 0.99637067, 0.98672311, 1.00117042,\n",
       "       0.99438073, 1.00933207, 0.98495489, 0.99232569, 0.99461386,\n",
       "       1.00290399, 0.99893732, 0.99141338, 0.98047047, 1.00369403,\n",
       "       1.01342023, 1.00050464, 0.99852944, 1.00114215, 1.00174635,\n",
       "       1.01145406, 0.9947597 , 0.98940032, 1.01291787, 1.01182599,\n",
       "       1.01097339, 0.98926944, 0.99744021, 1.01418877, 1.01235026,\n",
       "       1.01200138, 0.9807002 , 0.99445412, 0.998006  , 1.00113472,\n",
       "       0.99793694, 1.00361806, 0.987897  , 0.98535363, 1.00503609,\n",
       "       0.99824974, 1.01205421, 1.0226889 , 0.99669095, 0.99544162,\n",
       "       0.99153551, 0.98747926, 0.99203339, 0.99145593, 0.99293706,\n",
       "       1.00150684, 0.99647752, 1.01069868, 0.99975548, 0.99973031,\n",
       "       0.99774909, 1.00678476, 1.00442214, 1.00374679, 0.99684346,\n",
       "       1.00947168, 0.99653595, 0.98801897, 1.00038562, 0.98675374,\n",
       "       0.99799744, 1.00769428, 1.01745669, 1.0159061 , 1.01686363,\n",
       "       1.00077362, 1.00783094, 1.00793014, 1.00352638, 0.97357176,\n",
       "       1.00251618, 0.98779596, 1.01605826, 1.00041125, 1.01812048,\n",
       "       0.99327918, 0.9881596 , 1.00294675, 0.99059645, 1.00248487,\n",
       "       0.99484105, 1.01496522, 1.01706791, 0.99470543, 1.00873035,\n",
       "       1.00790889, 0.99588231, 0.99866713, 0.99568689, 1.00397559,\n",
       "       0.98816066, 1.01392439, 1.00860364, 1.00345197, 1.0076532 ,\n",
       "       0.98172949, 1.01434126, 0.98218302, 1.01928493, 0.99544271,\n",
       "       0.99577944, 0.98848937, 1.00656298, 0.99799797, 1.01041195,\n",
       "       1.00772158, 0.99668044, 0.99466497, 1.00000023, 0.98977034,\n",
       "       0.99591209, 0.99577604, 1.01669008, 0.99869601, 1.00637187,\n",
       "       1.00726453, 1.00580394, 1.00609562, 0.9986171 , 1.01208455,\n",
       "       1.00787255, 1.01681246, 1.00329939, 0.99985077, 0.99360056,\n",
       "       0.99648418, 1.02294311, 0.9904987 , 0.99924983, 0.99891769,\n",
       "       0.99906121, 1.00024626, 0.99423604, 0.99344728, 0.99264282,\n",
       "       0.98925543, 1.00885483, 1.01386306, 1.01976417, 1.00012336,\n",
       "       0.99366668, 0.99615363, 0.99129751, 1.00672958, 1.02215627,\n",
       "       1.0100116 , 0.99237225, 0.99347907, 1.00786487, 0.98613493,\n",
       "       0.98492368, 1.01408261, 0.99431981, 1.00290984, 1.01105428,\n",
       "       1.00706635, 1.00156379, 0.99139401, 0.99315694, 0.99999072,\n",
       "       1.01051286, 0.98598296, 0.99108517, 0.9999593 , 1.00379143,\n",
       "       0.9937703 , 1.00387312, 0.98997623, 0.99334534, 1.01262774,\n",
       "       0.98881436, 1.01226421, 1.00922177, 1.00370171, 1.00573419,\n",
       "       0.99515199, 1.00664935, 1.01469125, 1.00369224, 0.99938863,\n",
       "       0.99057553, 1.00163156, 0.99405693, 1.01318047, 1.00126379,\n",
       "       0.99693224, 0.99404905, 0.99827975, 0.99703802, 1.01312693,\n",
       "       1.00766566, 0.98824311, 1.00065739, 1.00345586, 1.00627108,\n",
       "       0.98639945, 0.98455303, 1.01419559, 1.0009991 , 1.00282275,\n",
       "       1.00108804, 0.99697205, 1.00285735, 1.00265646, 1.00701296,\n",
       "       1.01381482, 1.00062521, 1.00973163, 1.01116985, 1.01168346,\n",
       "       1.00811301, 0.9989789 , 1.00389227, 1.00604147, 0.99543008,\n",
       "       1.01164337, 1.01046838, 1.00800298, 0.98851396, 0.99249036,\n",
       "       0.98417581, 1.005202  , 0.99013054, 1.00916733, 0.99726482,\n",
       "       1.00156387, 0.99605195, 0.99803209, 1.01744905, 0.9899475 ,\n",
       "       1.00864574, 0.99732547, 0.98629117, 1.00116056, 0.99525087,\n",
       "       1.00831659, 0.9976159 , 1.00284117, 0.99289226, 0.99365802,\n",
       "       1.00296724, 1.00275844, 1.00287568, 0.97508999, 1.00914628,\n",
       "       1.00016431, 0.99852246, 0.99955266, 1.0120907 , 0.99626393,\n",
       "       0.99926655, 0.99727433, 0.99692021, 1.00126574, 0.98526424,\n",
       "       0.99677873, 0.98122201, 1.00484013, 1.00070652, 0.99307182,\n",
       "       0.99744812, 1.00664249, 1.00825739, 1.00964084, 1.01180399,\n",
       "       1.01325676, 1.00647349, 0.99631012, 1.00344781, 0.99105185,\n",
       "       1.00084122, 1.00175525, 1.00208503, 1.00165538, 1.00547277,\n",
       "       0.99450071, 1.0125769 , 0.99766545, 1.00638549, 0.99407069,\n",
       "       0.99955733, 0.97584491, 1.01427355, 1.0125614 , 1.00767005,\n",
       "       0.99951649, 0.99277802, 0.98239641, 1.02057841, 1.0087009 ,\n",
       "       1.00089232, 1.00016737, 1.00676098, 1.00066498, 1.00488889,\n",
       "       0.98550226, 1.01480234, 0.98800923, 1.01805976, 1.00225555,\n",
       "       0.99872117, 0.99912994, 0.99954331, 0.99890722, 0.99173022,\n",
       "       1.00713819, 1.00390282, 0.99353321, 0.9838049 , 0.99370465,\n",
       "       1.01016845, 1.00774062, 1.01404286, 1.00150179, 0.9910171 ,\n",
       "       0.99273793, 0.99628214, 0.99352083, 1.00606488, 0.99173288,\n",
       "       0.9898527 , 0.99221373, 0.99969773, 1.00369354, 1.00716224,\n",
       "       1.00053721, 0.99807117, 0.97844704, 0.98099976, 0.99971034,\n",
       "       1.00292775, 1.00691541, 1.00012713, 1.0124004 , 1.00725137,\n",
       "       0.99769695, 1.00879366, 1.011686  , 1.0020319 , 0.9901363 ,\n",
       "       1.0148407 , 1.0004983 , 0.99214434, 1.01450837, 0.99776226,\n",
       "       1.01654914, 0.98055987, 0.9871957 , 1.01683532, 1.00127113,\n",
       "       1.01372879, 1.00704831, 0.98956299, 0.99360941, 1.00352078,\n",
       "       0.98885429, 0.9923701 , 1.01022067, 1.00063499, 0.99853588,\n",
       "       1.00645169, 0.98594191, 1.00933938, 1.00881776, 0.98382709,\n",
       "       0.98715014, 1.00653723, 0.99332703, 1.00240698, 0.99087617,\n",
       "       0.99697011, 0.99861381, 1.0044707 , 0.9973522 , 1.0001855 ,\n",
       "       1.00292418, 1.00431547, 1.01636216, 1.00833806, 0.99309225,\n",
       "       1.00424233, 1.00219333, 1.00495948, 0.99834113, 0.99494797,\n",
       "       1.00546872, 1.0039615 , 0.99140219, 1.00508965, 0.99934314,\n",
       "       1.0096413 , 1.0028325 , 0.99719949, 1.00566233, 0.99977566,\n",
       "       0.99574182, 0.9927843 , 1.00159205, 1.01506304, 0.98428288,\n",
       "       0.97995168, 0.9898045 , 0.99837411, 0.99827857, 0.9912668 ,\n",
       "       1.00160878, 1.01758176, 1.01113621, 0.98598464, 1.00679282,\n",
       "       1.00327379, 0.98979002, 0.97663437, 0.99106789, 1.01441223,\n",
       "       1.00100832, 0.98101143, 1.00989591, 0.98373624, 1.0017914 ,\n",
       "       1.00202022, 1.00462088, 0.99425326, 1.00386916, 1.0084606 ,\n",
       "       0.98935639, 1.00454547, 1.00259094, 1.00291474, 0.99534244,\n",
       "       1.01464907, 0.98157274, 1.00323315, 0.97568765, 1.00353666,\n",
       "       1.02046058, 0.99961681, 1.00372214, 1.00874196, 0.9948558 ,\n",
       "       1.02108547, 0.99146489, 1.00629089, 1.00400456, 0.9932124 ,\n",
       "       0.99506091, 0.99374862, 1.00612621, 1.01537792, 1.00106972,\n",
       "       1.00790384, 0.97446361, 0.99629891, 1.01776301, 1.0188833 ,\n",
       "       1.00714194, 1.00005737, 1.01116365, 0.99955302, 0.99195186,\n",
       "       0.9980106 , 0.99772526, 0.99845281, 1.00851002, 1.0242375 ])"
      ]
     },
     "execution_count": 41,
     "metadata": {},
     "output_type": "execute_result"
    }
   ],
   "source": [
    "# Generate 500 random steps\n",
    "steps = np.random.normal(loc=0.001, scale=0.01, size=500) + 1\n",
    "steps"
   ]
  },
  {
   "cell_type": "code",
   "execution_count": 42,
   "metadata": {},
   "outputs": [
    {
     "data": {
      "text/plain": [
       "array([100.        , 100.42026969, 101.81084405, 100.23794818,\n",
       "        99.62768498, 100.67851196, 101.95012712, 103.67524586,\n",
       "       104.33537751, 104.23464096, 105.3588258 , 105.86098686,\n",
       "       107.24573369, 107.92668798, 107.02364878, 107.25450631,\n",
       "       106.8896611 , 106.52834036, 105.9148831 , 106.32913621,\n",
       "       106.95553152, 106.79661091, 108.20304881, 107.89024142,\n",
       "       107.3051189 , 107.44882816, 105.070089  , 105.792559  ,\n",
       "       106.76980201, 104.11572124, 103.70470213, 104.90252676,\n",
       "       104.52180059, 103.13407563, 103.25478581, 102.67456939,\n",
       "       103.63273557, 102.0735701 , 101.29022626, 100.74466251,\n",
       "       101.03722397, 100.92985398, 100.06320737,  98.10902044,\n",
       "        98.47143801,  99.7929472 ,  99.84330685,  99.69648108,\n",
       "        99.81034977,  99.98465384, 101.1298837 , 100.59993289,\n",
       "        99.53360555, 100.81936776, 102.01165709, 103.131071  ,\n",
       "       102.02441677, 101.76325574, 103.20715112, 104.48178625,\n",
       "       105.73571225, 103.69503372, 103.11995327, 102.914332  ,\n",
       "       103.03111128, 102.8185516 , 103.19055508, 101.94164023,\n",
       "       100.44856561, 100.95443328, 100.77773639, 101.99253229,\n",
       "       104.30663022, 103.9614741 , 103.48757817, 102.61160836,\n",
       "       101.32683521, 100.51960423,  99.66075795,  98.95685992,\n",
       "        99.10597194,  98.75687334,  99.81344199,  99.78903558,\n",
       "        99.76212368,  99.5375677 , 100.21290625, 100.65606148,\n",
       "       101.03319908, 100.71428359, 101.66821657, 101.31603263,\n",
       "       100.10216219, 100.14076311,  98.8142722 ,  98.61639099,\n",
       "        99.37517293, 101.10993499, 102.71820021, 104.45040155,\n",
       "       104.53120624, 105.34978398, 106.1852226 , 106.55967232,\n",
       "       103.74348788, 104.00452558, 102.73525056, 104.38499965,\n",
       "       104.42792815, 106.3202128 , 105.60565345, 104.35524008,\n",
       "       104.66274899, 103.67854712, 103.93617499, 103.39997303,\n",
       "       104.94737623, 106.73860907, 106.17347363, 107.10040559,\n",
       "       107.94745108, 107.50295655, 107.35966875, 106.89661474,\n",
       "       107.32159228, 106.05097572, 107.52767059, 108.45279957,\n",
       "       108.82717513, 109.66005117, 107.65650616, 109.20043652,\n",
       "       107.25481429, 109.32321585, 108.82499872, 108.36569672,\n",
       "       107.11833919, 107.8213545 , 107.60549313, 108.7258759 ,\n",
       "       109.56541116, 109.20170273, 108.61910804, 108.61913248,\n",
       "       107.50799581, 107.06851308, 106.61625949, 108.3956929 ,\n",
       "       108.25434578, 108.94412893, 109.73555665, 110.37245527,\n",
       "       111.04524377, 110.89167983, 112.23175621, 113.11530644,\n",
       "       115.01705273, 115.39653907, 115.3793185 , 114.640956  ,\n",
       "       114.2378992 , 116.85887171, 115.74856096, 115.66172965,\n",
       "       115.53654777, 115.42808339, 115.45650877, 114.79102232,\n",
       "       114.03882882, 113.19982503, 111.98354152, 112.97513657,\n",
       "       114.54131724, 116.80513079, 116.81953998, 116.07968466,\n",
       "       115.63319946, 114.62690297, 115.39829409, 117.9550895 ,\n",
       "       119.13600902, 118.22726943, 117.45631778, 118.3800964 ,\n",
       "       116.73874859, 114.97875805, 116.59795861, 115.93566017,\n",
       "       116.27301454, 117.5583294 , 118.38903817, 118.57417395,\n",
       "       117.55372555, 116.74929859, 116.74821506, 117.97557297,\n",
       "       116.32190459, 115.28491515, 115.28022322, 115.71730025,\n",
       "       114.99641667, 115.44181157, 114.28464989, 113.52412497,\n",
       "       114.9576785 , 113.67180277, 115.06589775, 116.1270092 ,\n",
       "       116.55687782, 117.22523733, 116.65692863, 117.43262088,\n",
       "       119.1578534 , 119.59781273, 119.52469402, 118.39823718,\n",
       "       118.59141122, 117.88661424, 119.44041505, 119.5913623 ,\n",
       "       119.2244845 , 118.51498605, 118.31111105, 117.96067551,\n",
       "       119.50913688, 120.42525382, 119.00942732, 119.08766264,\n",
       "       119.49921332, 120.24860207, 118.6131549 , 116.78094057,\n",
       "       118.43871453, 118.55704614, 118.89170336, 119.02106256,\n",
       "       118.66067233, 118.99972746, 119.31584492, 120.15260263,\n",
       "       121.81248918, 121.88864701, 123.07482209, 124.44954909,\n",
       "       125.9035507 , 126.92500787, 126.79540449, 127.28892704,\n",
       "       128.05793872, 127.47272397, 128.95693636, 130.30690612,\n",
       "       131.34974985, 129.84106162, 128.86600168, 126.82680207,\n",
       "       127.48655452, 126.22833101, 127.38550749, 127.03708575,\n",
       "       127.23575573, 126.73342298, 126.48402258, 128.6910488 ,\n",
       "       127.39738142, 128.4988261 , 128.15515193, 126.39829453,\n",
       "       126.54498718, 125.94400827, 126.9914325 , 126.6886728 ,\n",
       "       127.04861646, 126.14558752, 125.34557426, 125.71750505,\n",
       "       126.06428924, 126.42681015, 123.27751711, 124.40504771,\n",
       "       124.42548814, 124.24164432, 124.18606648, 125.68756323,\n",
       "       125.21798507, 125.12614419, 124.78509179, 124.4007801 ,\n",
       "       124.55823867, 122.72277775, 122.32745414, 120.03039068,\n",
       "       120.61135284, 120.69656683, 119.86035977, 119.55449051,\n",
       "       120.34863059, 121.34239651, 122.51223937, 123.95837212,\n",
       "       125.60165799, 126.41473961, 125.94828411, 126.38252972,\n",
       "       125.25164032, 125.35700444, 125.57703718, 125.83886896,\n",
       "       126.04717991, 126.73700702, 126.04004403, 127.62523749,\n",
       "       127.32729001, 128.14033724, 127.38055364, 127.32416606,\n",
       "       124.24863878, 126.02210822, 127.60512233, 128.58385974,\n",
       "       128.52168808, 127.59350643, 125.34740322, 127.92685291,\n",
       "       129.0399323 , 129.15507682, 129.17669359, 130.05005446,\n",
       "       130.13653533, 130.77275805, 128.87684799, 130.78452679,\n",
       "       129.21631934, 131.54993558, 131.84665257, 131.67804359,\n",
       "       131.56347553, 131.50339231, 131.35968776, 130.2733721 ,\n",
       "       131.20328779, 131.71535069, 130.86357518, 128.74422671,\n",
       "       127.93373707, 129.23462447, 130.23498116, 132.06385237,\n",
       "       132.26218439, 131.0740864 , 130.1222171 , 129.63844058,\n",
       "       128.79849105, 129.57963866, 128.50838876, 127.20437609,\n",
       "       126.21392845, 126.17577726, 126.64181253, 127.54885117,\n",
       "       127.61737127, 127.37121964, 124.62599339, 122.25806898,\n",
       "       122.22265528, 122.58049266, 123.42818674, 123.443878  ,\n",
       "       124.97463106, 125.88086875, 125.59095897, 126.69536303,\n",
       "       128.17592477, 128.43636592, 127.16950764, 129.05679154,\n",
       "       129.1211005 , 128.10676889, 129.96538874, 129.67456003,\n",
       "       131.82056256, 129.25795386, 127.60289607, 129.75113229,\n",
       "       129.9160623 , 131.69965288, 132.62791272, 131.24367372,\n",
       "       130.40494915, 130.86407635, 129.40550321, 128.41815201,\n",
       "       129.73067189, 129.81304978, 129.62298775, 130.4592749 ,\n",
       "       128.62526607, 129.82654591, 130.97132473, 128.85313667,\n",
       "       127.19739238, 128.02891153, 127.17457796, 127.48068462,\n",
       "       126.31757223, 125.9348433 , 125.76027387, 126.32251096,\n",
       "       125.98803459, 126.01140548, 126.37988593, 126.92527486,\n",
       "       129.00204699, 130.07767414, 129.17912991, 129.72715043,\n",
       "       130.01168512, 130.65647564, 130.4397337 , 129.78074831,\n",
       "       130.49048333, 131.00742145, 129.8810443 , 130.54209352,\n",
       "       130.45634588, 131.71411434, 132.08719502, 131.717283  ,\n",
       "       132.46310932, 132.4333927 , 131.86946799, 130.91793742,\n",
       "       131.12636533, 133.10152674, 131.00955381, 128.38303205,\n",
       "       127.07410334, 126.86749466, 126.64910141, 125.5430497 ,\n",
       "       125.74502118, 127.95584034, 129.38078345, 127.56746468,\n",
       "       128.43400746, 128.85447398, 127.53887191, 124.55884629,\n",
       "       123.44627282, 125.22540921, 125.3516761 , 122.97142696,\n",
       "       124.18834168, 122.16857251, 122.38742561, 122.6346752 ,\n",
       "       123.20135546, 122.49334921, 122.96729576, 124.00767304,\n",
       "       122.68778315, 123.24545666, 123.56477828, 123.92493698,\n",
       "       123.34774943, 125.15467973, 122.84842171, 123.24560913,\n",
       "       120.24921872, 120.67449932, 123.14356985, 123.09638259,\n",
       "       123.55456396, 124.63467338, 123.99352829, 126.6079901 ,\n",
       "       125.52737657, 126.31705498, 126.82289965, 125.96207597,\n",
       "       125.33993797, 124.55639007, 125.31944823, 127.24660103,\n",
       "       127.38271917, 128.38953242, 125.11092778, 124.64788126,\n",
       "       126.86200248, 129.25757536, 130.18072535, 130.18819378,\n",
       "       131.64156899, 131.58272723, 130.52373153, 130.26406791,\n",
       "       129.96775118, 129.76666629, 130.87098376, 134.04296883])"
      ]
     },
     "execution_count": 42,
     "metadata": {},
     "output_type": "execute_result"
    }
   ],
   "source": [
    "# Set first element to 1\n",
    "steps[0]=1\n",
    "\n",
    "# Simulate the stock price, P, by taking the cumulative product\n",
    "P = 100 * np.cumprod(steps)\n",
    "P"
   ]
  },
  {
   "cell_type": "code",
   "execution_count": 43,
   "metadata": {},
   "outputs": [
    {
     "data": {
      "image/png": "[encoded data removed]",
      "text/plain": [
       "<Figure size 432x288 with 1 Axes>"
      ]
     },
     "metadata": {
      "needs_background": "light"
     },
     "output_type": "display_data"
    }
   ],
   "source": [
    "# Plot the simulated stock prices\n",
    "plt.plot(P)\n",
    "plt.title(\"Simulated Random Walk with Drift\")\n",
    "plt.show()"
   ]
  },
  {
   "cell_type": "markdown",
   "metadata": {},
   "source": [
    "* This simulated price series you plotted should closely resemble a random walk for a high flying stock."
   ]
  },
  {
   "cell_type": "markdown",
   "metadata": {},
   "source": [
    "### Are Stock Prices a Random Walk?\n",
    "Most stock prices follow a random walk (perhaps with a drift). You will look at a time series of Amazon stock prices, AMZN, and run the 'Augmented Dickey-Fuller Test' from the statsmodels library to show that it does indeed follow a random walk.\n",
    "With the ADF test, the \"null hypothesis\" (the hypothesis that we either reject or fail to reject) is that the series follows a random walk. Therefore, a low p-value (say less than 5%) means we can reject the null hypothesis that the series is a random walk.\n",
    "\n",
    "- Import the adfuller module from statsmodels.\n",
    "- Run the Augmented Dickey-Fuller test on the series of closing stock prices, which is the column Adj Close in the AMZN DataFrame.\n",
    "- Print out the entire output, which includes the test statistic, the p-values, and the critical values for tests with 1%, 10%, and 5% levels.\n",
    "- Print out just the p-value of the test (results[0] is the test statistic, and results[1] is the p-value)."
   ]
  },
  {
   "cell_type": "code",
   "execution_count": 44,
   "metadata": {},
   "outputs": [
    {
     "data": {
      "text/html": [
       "<div>\n",
       "<style scoped>\n",
       "    .dataframe tbody tr th:only-of-type {\n",
       "        vertical-align: middle;\n",
       "    }\n",
       "\n",
       "    .dataframe tbody tr th {\n",
       "        vertical-align: top;\n",
       "    }\n",
       "\n",
       "    .dataframe thead th {\n",
       "        text-align: right;\n",
       "    }\n",
       "</style>\n",
       "<table border=\"1\" class=\"dataframe\">\n",
       "  <thead>\n",
       "    <tr style=\"text-align: right;\">\n",
       "      <th></th>\n",
       "      <th>Adj Close</th>\n",
       "    </tr>\n",
       "    <tr>\n",
       "      <th>Date</th>\n",
       "      <th></th>\n",
       "    </tr>\n",
       "  </thead>\n",
       "  <tbody>\n",
       "    <tr>\n",
       "      <th>1997-05-15</th>\n",
       "      <td>1.958333</td>\n",
       "    </tr>\n",
       "    <tr>\n",
       "      <th>1997-05-16</th>\n",
       "      <td>1.729167</td>\n",
       "    </tr>\n",
       "    <tr>\n",
       "      <th>1997-05-19</th>\n",
       "      <td>1.708333</td>\n",
       "    </tr>\n",
       "    <tr>\n",
       "      <th>1997-05-20</th>\n",
       "      <td>1.635417</td>\n",
       "    </tr>\n",
       "    <tr>\n",
       "      <th>1997-05-21</th>\n",
       "      <td>1.427083</td>\n",
       "    </tr>\n",
       "  </tbody>\n",
       "</table>\n",
       "</div>"
      ],
      "text/plain": [
       "            Adj Close\n",
       "Date                 \n",
       "1997-05-15   1.958333\n",
       "1997-05-16   1.729167\n",
       "1997-05-19   1.708333\n",
       "1997-05-20   1.635417\n",
       "1997-05-21   1.427083"
      ]
     },
     "execution_count": 44,
     "metadata": {},
     "output_type": "execute_result"
    }
   ],
   "source": [
    "AMZN = pd.read_csv(\"Data/AMZN.csv\", parse_dates=True, index_col='Date')\n",
    "AMZN.head()"
   ]
  },
  {
   "cell_type": "code",
   "execution_count": 45,
   "metadata": {},
   "outputs": [
    {
     "name": "stdout",
     "output_type": "stream",
     "text": [
      "(4.02516852577074, 1.0, 33, 5054, {'1%': -3.4316445438146865, '5%': -2.862112049726916, '10%': -2.5670745025321304}, 30308.64216426981)\n"
     ]
    }
   ],
   "source": [
    "# Import the adfuller module from statsmodels\n",
    "from statsmodels.tsa.stattools import adfuller\n",
    "\n",
    "# Run the ADF test on the price series and print out the results\n",
    "results = adfuller(AMZN['Adj Close'])\n",
    "print(results)"
   ]
  },
  {
   "cell_type": "code",
   "execution_count": 46,
   "metadata": {},
   "outputs": [
    {
     "name": "stdout",
     "output_type": "stream",
     "text": [
      "The p-value of the test on prices is: 1.0\n"
     ]
    }
   ],
   "source": [
    "# Just print out the p-value\n",
    "print('The p-value of the test on prices is: ' + str(results[1]))"
   ]
  },
  {
   "cell_type": "markdown",
   "metadata": {},
   "source": [
    "* Since p-value is high, we can't reject the null hypothesis that the series is a random walk."
   ]
  },
  {
   "cell_type": "markdown",
   "metadata": {},
   "source": [
    "### How About Stock Returns?\n",
    "In the last exercise, you showed that Amazon stock prices, contained in the DataFrame AMZN follow a random walk. In this exercise. you will do the same thing for Amazon returns (percent change in prices) and show that the returns do not follow a random walk.\n",
    "\n",
    "- Import the adfuller module from statsmodels.\n",
    "- Create a new DataFrame of AMZN returns by taking the percent change of prices using the method `.pct_change()`.\n",
    "- Eliminate the NaN in the first row of returns using the `.dropna()` method on the DataFrame.\n",
    "- Run the Augmented Dickey-Fuller test on the Adj Close column of the returns DataFrame, and print out the p-value in `results[1]."
   ]
  },
  {
   "cell_type": "code",
   "execution_count": 47,
   "metadata": {},
   "outputs": [
    {
     "data": {
      "text/html": [
       "<div>\n",
       "<style scoped>\n",
       "    .dataframe tbody tr th:only-of-type {\n",
       "        vertical-align: middle;\n",
       "    }\n",
       "\n",
       "    .dataframe tbody tr th {\n",
       "        vertical-align: top;\n",
       "    }\n",
       "\n",
       "    .dataframe thead th {\n",
       "        text-align: right;\n",
       "    }\n",
       "</style>\n",
       "<table border=\"1\" class=\"dataframe\">\n",
       "  <thead>\n",
       "    <tr style=\"text-align: right;\">\n",
       "      <th></th>\n",
       "      <th>Adj Close</th>\n",
       "    </tr>\n",
       "    <tr>\n",
       "      <th>Date</th>\n",
       "      <th></th>\n",
       "    </tr>\n",
       "  </thead>\n",
       "  <tbody>\n",
       "    <tr>\n",
       "      <th>1997-05-15</th>\n",
       "      <td>NaN</td>\n",
       "    </tr>\n",
       "    <tr>\n",
       "      <th>1997-05-16</th>\n",
       "      <td>-0.117021</td>\n",
       "    </tr>\n",
       "    <tr>\n",
       "      <th>1997-05-19</th>\n",
       "      <td>-0.012049</td>\n",
       "    </tr>\n",
       "    <tr>\n",
       "      <th>1997-05-20</th>\n",
       "      <td>-0.042683</td>\n",
       "    </tr>\n",
       "    <tr>\n",
       "      <th>1997-05-21</th>\n",
       "      <td>-0.127389</td>\n",
       "    </tr>\n",
       "  </tbody>\n",
       "</table>\n",
       "</div>"
      ],
      "text/plain": [
       "            Adj Close\n",
       "Date                 \n",
       "1997-05-15        NaN\n",
       "1997-05-16  -0.117021\n",
       "1997-05-19  -0.012049\n",
       "1997-05-20  -0.042683\n",
       "1997-05-21  -0.127389"
      ]
     },
     "execution_count": 47,
     "metadata": {},
     "output_type": "execute_result"
    }
   ],
   "source": [
    "# Import the adfuller module from statsmodels\n",
    "from statsmodels.tsa.stattools import adfuller\n",
    "\n",
    "# Create a DataFrame of AMZN returns\n",
    "AMZN_ret = AMZN.pct_change()\n",
    "AMZN_ret.head()"
   ]
  },
  {
   "cell_type": "code",
   "execution_count": 52,
   "metadata": {},
   "outputs": [
    {
     "name": "stdout",
     "output_type": "stream",
     "text": [
      "(-12.0534530218698, 2.5655898083467396e-22, 33, 5053, {'1%': -3.431644800138127, '5%': -2.86211216296977, '10%': -2.567074562815631}, -18483.377508750207)\n",
      "The p-value of the test on returns is: 2.5655898083467396e-22\n"
     ]
    }
   ],
   "source": [
    "# Eliminate the NaN in the first row of returns\n",
    "AMZN_ret = AMZN_ret.dropna()\n",
    "\n",
    "# Run the ADF test on the return series and print out the p-value\n",
    "results = adfuller(AMZN_ret['Adj Close'])\n",
    "print(results)\n",
    "print('The p-value of the test on returns is: ' + str(results[1]))"
   ]
  },
  {
   "cell_type": "markdown",
   "metadata": {},
   "source": [
    "* The p-value is extremely small, so we can easily reject the hypothesis that returns are random walk at all levels of significance."
   ]
  },
  {
   "cell_type": "markdown",
   "metadata": {},
   "source": [
    "### Seasonal Adjustment During Tax Season\n",
    "Many time series exhibit strong seasonal behavior. The procedure for removing the seasonal component of a time series is called seasonal adjustment. For example, most economic data published by the government is seasonally adjusted.\n",
    "You saw earlier that by taking first differences of a random walk, you get a stationary white noise process. For seasonal adjustments, instead of taking first differences, you will take differences with a lag corresponding to the periodicity.\n",
    "Look again at the ACF of H&R Block's quarterly earnings, HRB, and there is a clear seasonal component. The autocorrelation is high for lags 4,8,12,16,..., because of the spike in earnings every four quarters during tax season. Apply a seasonal adjustment by taking the fourth difference (four represents the periodicity of the series). Then compute the autocorrelation of the transformed series.\n",
    "\n",
    "\n",
    "- Create a new DataFrame of seasonally adjusted earnings by taking the lag-4 difference of quarterly earnings using the `.diff()` method.\n",
    "- Examine the first 10 rows of the seasonally adjusted DataFrame and notice that the first four rows are NaN.\n",
    "- Drop the NaN rows using the `.dropna()` method.\n",
    "- Plot the autocorrelation function of the seasonally adjusted DataFrame."
   ]
  },
  {
   "cell_type": "code",
   "execution_count": 49,
   "metadata": {},
   "outputs": [
    {
     "data": {
      "text/html": [
       "<div>\n",
       "<style scoped>\n",
       "    .dataframe tbody tr th:only-of-type {\n",
       "        vertical-align: middle;\n",
       "    }\n",
       "\n",
       "    .dataframe tbody tr th {\n",
       "        vertical-align: top;\n",
       "    }\n",
       "\n",
       "    .dataframe thead th {\n",
       "        text-align: right;\n",
       "    }\n",
       "</style>\n",
       "<table border=\"1\" class=\"dataframe\">\n",
       "  <thead>\n",
       "    <tr style=\"text-align: right;\">\n",
       "      <th></th>\n",
       "      <th>Earnings</th>\n",
       "    </tr>\n",
       "    <tr>\n",
       "      <th>Quarter</th>\n",
       "      <th></th>\n",
       "    </tr>\n",
       "  </thead>\n",
       "  <tbody>\n",
       "    <tr>\n",
       "      <th>2007-01-01</th>\n",
       "      <td>-0.36</td>\n",
       "    </tr>\n",
       "    <tr>\n",
       "      <th>2007-04-01</th>\n",
       "      <td>-0.38</td>\n",
       "    </tr>\n",
       "    <tr>\n",
       "      <th>2007-07-01</th>\n",
       "      <td>0.07</td>\n",
       "    </tr>\n",
       "    <tr>\n",
       "      <th>2007-10-01</th>\n",
       "      <td>1.85</td>\n",
       "    </tr>\n",
       "    <tr>\n",
       "      <th>2008-01-01</th>\n",
       "      <td>-0.34</td>\n",
       "    </tr>\n",
       "  </tbody>\n",
       "</table>\n",
       "</div>"
      ],
      "text/plain": [
       "            Earnings\n",
       "Quarter             \n",
       "2007-01-01     -0.36\n",
       "2007-04-01     -0.38\n",
       "2007-07-01      0.07\n",
       "2007-10-01      1.85\n",
       "2008-01-01     -0.34"
      ]
     },
     "execution_count": 49,
     "metadata": {},
     "output_type": "execute_result"
    }
   ],
   "source": [
    "# Import the plot_acf module from statsmodels\n",
    "from statsmodels.graphics.tsaplots import plot_acf\n",
    "HRB.head()"
   ]
  },
  {
   "cell_type": "code",
   "execution_count": 50,
   "metadata": {},
   "outputs": [
    {
     "name": "stdout",
     "output_type": "stream",
     "text": [
      "            Earnings\n",
      "Quarter             \n",
      "2007-01-01       NaN\n",
      "2007-04-01       NaN\n",
      "2007-07-01       NaN\n",
      "2007-10-01       NaN\n",
      "2008-01-01      0.02\n",
      "2008-04-01     -0.04\n",
      "2008-07-01     -0.05\n",
      "2008-10-01      0.26\n",
      "2009-01-01     -0.05\n",
      "2009-04-01      0.02\n"
     ]
    }
   ],
   "source": [
    "# Seasonally adjust quarterly earnings\n",
    "HRBsa = HRB.diff(4)\n",
    "\n",
    "# Print the first 10 rows of the seasonally adjusted series\n",
    "print(HRBsa.head(10))"
   ]
  },
  {
   "cell_type": "code",
   "execution_count": 51,
   "metadata": {},
   "outputs": [
    {
     "data": {
      "image/png": "[encoded data removed]",
      "text/plain": [
       "<Figure size 432x288 with 1 Axes>"
      ]
     },
     "metadata": {
      "needs_background": "light"
     },
     "output_type": "display_data"
    }
   ],
   "source": [
    "# Drop the NaN data in the first three three rows\n",
    "HRBsa = HRBsa.dropna()\n",
    "\n",
    "# Plot the autocorrelation function of the seasonally adjusted series\n",
    "plot_acf(HRBsa)\n",
    "plt.show()"
   ]
  },
  {
   "cell_type": "code",
   "execution_count": null,
   "metadata": {},
   "outputs": [],
   "source": []
  }
 ],
 "metadata": {
  "kernelspec": {
   "display_name": "Python 3",
   "language": "python",
   "name": "python3"
  },
  "language_info": {
   "codemirror_mode": {
    "name": "ipython",
    "version": 3
   },
   "file_extension": ".py",
   "mimetype": "text/x-python",
   "name": "python",
   "nbconvert_exporter": "python",
   "pygments_lexer": "ipython3",
   "version": "3.7.6"
  }
 },
 "nbformat": 4,
 "nbformat_minor": 4
}
